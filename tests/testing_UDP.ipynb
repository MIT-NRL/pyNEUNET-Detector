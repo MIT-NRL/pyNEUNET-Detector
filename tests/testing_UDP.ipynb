{
 "cells": [
  {
   "cell_type": "code",
   "execution_count": 1,
   "metadata": {},
   "outputs": [],
   "source": [
    "import socket\n",
    "import time\n",
    "import numpy as np"
   ]
  },
  {
   "cell_type": "code",
   "execution_count": 3,
   "metadata": {},
   "outputs": [],
   "source": [
    "IP_ADDRESS = \"192.168.0.17\"\n",
    "TCP_Port = 23\n",
    "UDP_Port = 4660"
   ]
  },
  {
   "cell_type": "code",
   "execution_count": 26,
   "metadata": {},
   "outputs": [],
   "source": [
    "sock = socket.socket(socket.AF_INET,socket.SOCK_DGRAM)"
   ]
  },
  {
   "cell_type": "code",
   "execution_count": 141,
   "metadata": {},
   "outputs": [
    {
     "name": "stdout",
     "output_type": "stream",
     "text": [
      "bytearray(b'\\xff\\xc0\\xaa\\x01\\x00\\x00\\x01\\x89')\n"
     ]
    }
   ],
   "source": [
    "address = 0x189\n",
    "readBytes = bytearray([0xFF,0xc0,0xaa,0x01]) + address.to_bytes(4,'big')\n",
    "print(readBytes)"
   ]
  },
  {
   "cell_type": "code",
   "execution_count": 126,
   "metadata": {},
   "outputs": [
    {
     "data": {
      "text/plain": [
       "'0b10000000'"
      ]
     },
     "execution_count": 126,
     "metadata": {},
     "output_type": "execute_result"
    }
   ],
   "source": [
    "bin(0x80)"
   ]
  },
  {
   "cell_type": "code",
   "execution_count": 143,
   "metadata": {},
   "outputs": [
    {
     "name": "stdout",
     "output_type": "stream",
     "text": [
      "bytearray(b'\\xff\\x80\\xaa\\x01\\x00\\x00\\x01\\x89@')\n"
     ]
    }
   ],
   "source": [
    "address = 0x189\n",
    "data = 0x40\n",
    "writeBytes = bytearray([0xFF,0x80,0xaa,0x01]) + address.to_bytes(4,'big') + bytes([data])\n",
    "print(writeBytes)"
   ]
  },
  {
   "cell_type": "code",
   "execution_count": 145,
   "metadata": {},
   "outputs": [
    {
     "name": "stdout",
     "output_type": "stream",
     "text": [
      "Header: b'\\xff\\xc8\\xaa\\x01\\x00\\x00\\x01\\x89'\n",
      "Data: b'@'\n"
     ]
    }
   ],
   "source": [
    "sock.sendto(readBytes,(IP_ADDRESS,UDP_Port))\n",
    "rec = sock.recv(1024)\n",
    "\n",
    "print(f\"Header: {rec[:8]}\\nData: {rec[8:]}\")"
   ]
  },
  {
   "cell_type": "code",
   "execution_count": 48,
   "metadata": {},
   "outputs": [
    {
     "data": {
      "text/plain": [
       "16"
      ]
     },
     "execution_count": 48,
     "metadata": {},
     "output_type": "execute_result"
    }
   ],
   "source": [
    "len(rec[0])"
   ]
  },
  {
   "cell_type": "code",
   "execution_count": 21,
   "metadata": {},
   "outputs": [
    {
     "data": {
      "text/plain": [
       "b'\\xff\\xc8\\x00\\xff\\x00\\x00\\x01\\xb5\\x00\\x90\\x00\\x00\\xff\\x00\\x00\\x00\\x00\\x00\\x00\\x00\\x00\\x00\\x00\\x00\\x00\\x00\\x00\\xea`\\x13\\x88+\\xf2\\x01\\xf4\\x13\\x87\\t\\x7f\\x7f\\x7f\\x7f\\x7f\\x05\\xb4\\x124\\x00\\x00\\x00\\x00\\x00\\x00\\x00\\x00\\x00\\x00\\x03\\xe8\\xea`\\x13\\x88+\\xf2\\x01\\xf4\\x01\\xf4\\xc0\\xa8\\x00\\x11\\x00\\x17\\x05\\xb4\\x124\\x00\\x00\\x00\\x00\\x00\\x00\\x00\\x00\\x00\\x00\\x03\\xe8\\xea`\\x13\\x88+\\xf2\\x01\\xf4\\x01\\xf4\\xc0\\xa8\\x00\\x11\\x00\\x17\\x05\\xb4\\x124\\x00\\x00\\x00\\x00\\x00\\x00\\x00\\x00\\x00\\x00\\x03\\xe8\\xea`\\x13\\x88+\\xf2\\x01\\xf4\\x01\\xf4\\xc0\\xa8\\x00\\x11\\x00\\x17\\x05\\xb4\\x124\\x00\\x00\\x00\\x00\\x00\\x00\\x00\\x00\\x00\\x00\\x03\\xe8\\xea`\\x13\\x88+\\xf2\\x01\\xf4\\x01\\xf4\\xc0\\xa8\\x00\\x11\\x00\\x17\\x05\\xb4\\x124\\x00\\x00\\x00\\x00\\x00\\x00\\x00\\x00\\x00\\x00\\x03\\xe8\\xea`\\x13\\x88+\\xf2\\x01\\xf4\\x01\\xf4\\xc0\\xa8\\x00\\x11\\x00\\x17\\x05\\xb4\\x124\\x00\\x00\\x00\\x00\\x00\\x00\\x00\\x00\\x00\\x00\\x03\\xe8\\xea`\\x13\\x88+\\xf2\\x01\\xf4\\x01\\xf4\\xc0\\xa8\\x00\\x11\\x00\\x17\\x05\\xb4\\x124\\x00\\x00\\x00\\x00\\x00\\x00\\x00\\x00\\x00\\x00\\x03\\xe8\\xea`\\x13\\x88+\\xf2\\x01\\xf4\\x01\\xf4\\xc0\\xa8'"
      ]
     },
     "execution_count": 21,
     "metadata": {},
     "output_type": "execute_result"
    }
   ],
   "source": [
    "rec[0]"
   ]
  },
  {
   "cell_type": "code",
   "execution_count": 12,
   "metadata": {},
   "outputs": [
    {
     "data": {
      "text/plain": [
       "'0b1000'"
      ]
     },
     "execution_count": 12,
     "metadata": {},
     "output_type": "execute_result"
    }
   ],
   "source": [
    "bin(0x8)"
   ]
  },
  {
   "cell_type": "code",
   "execution_count": 2,
   "metadata": {},
   "outputs": [
    {
     "data": {
      "text/plain": [
       "1"
      ]
     },
     "execution_count": 2,
     "metadata": {},
     "output_type": "execute_result"
    }
   ],
   "source": [
    "0x01"
   ]
  },
  {
   "cell_type": "code",
   "execution_count": 2,
   "metadata": {},
   "outputs": [
    {
     "ename": "SyntaxError",
     "evalue": "expected ':' (2154179610.py, line 11)",
     "output_type": "error",
     "traceback": [
      "\u001b[1;36m  Cell \u001b[1;32mIn[2], line 11\u001b[1;36m\u001b[0m\n\u001b[1;33m    with socket.so\u001b[0m\n\u001b[1;37m                  ^\u001b[0m\n\u001b[1;31mSyntaxError\u001b[0m\u001b[1;31m:\u001b[0m expected ':'\n"
     ]
    }
   ],
   "source": [
    "def UDP_Neunet(IP='192.168.0.17',port=4660,mode='read',ID=None,length=1,address=0x80,data=None,printOutput=True):\n",
    "        if mode == 'read':\n",
    "                modeByte = 0xc0\n",
    "        elif mode == 'write':\n",
    "                modeByte = 0x80\n",
    "        if ID is None:\n",
    "                ID = np.random.randint(0,255)\n",
    "        sendBytes = bytearray([0xff,modeByte,ID,length]) + address.to_bytes(4,'big')\n",
    "        if data is not None:\n",
    "                sendBytes += bytes([data])\n",
    "                \n",
    "        with socket.socket(socket.AF_INET,socket.SOCK_DGRAM) as sock:\n",
    "                sock.sendto(sendBytes,(IP,port))\n",
    "                recvData = sock.recv(1024)\n",
    "        if printOutput:\n",
    "                print(f\"Header : {recvData[:8]}\\n\",f\"Data : {recvData[8:]}\")\n",
    "        return recvData"
   ]
  },
  {
   "cell_type": "code",
   "execution_count": 13,
   "metadata": {},
   "outputs": [
    {
     "data": {
      "text/plain": [
       "b'\\x00\\x00\\x00\\x80'"
      ]
     },
     "execution_count": 13,
     "metadata": {},
     "output_type": "execute_result"
    }
   ],
   "source": [
    "0x80.to_bytes(4,'big')"
   ]
  },
  {
   "cell_type": "code",
   "execution_count": 23,
   "metadata": {},
   "outputs": [
    {
     "ename": "TypeError",
     "evalue": "can't concat NoneType to bytes",
     "output_type": "error",
     "traceback": [
      "\u001b[1;31m---------------------------------------------------------------------------\u001b[0m",
      "\u001b[1;31mTypeError\u001b[0m                                 Traceback (most recent call last)",
      "Cell \u001b[1;32mIn[23], line 2\u001b[0m\n\u001b[0;32m      1\u001b[0m data \u001b[39m=\u001b[39m \u001b[39mNone\u001b[39;00m\n\u001b[1;32m----> 2\u001b[0m \u001b[39mbytes\u001b[39;49m([\u001b[39m23\u001b[39;49m]) \u001b[39m+\u001b[39;49m \u001b[39mNone\u001b[39;49;00m\n",
      "\u001b[1;31mTypeError\u001b[0m: can't concat NoneType to bytes"
     ]
    }
   ],
   "source": [
    "data = None\n",
    "bytes([23]) + None"
   ]
  },
  {
   "cell_type": "code",
   "execution_count": 170,
   "metadata": {},
   "outputs": [
    {
     "data": {
      "text/plain": [
       "'ff:c0:1d:01:00:00:00:80'"
      ]
     },
     "execution_count": 170,
     "metadata": {},
     "output_type": "execute_result"
    }
   ],
   "source": [
    "UDP_Neunet().hex(\":\")"
   ]
  },
  {
   "cell_type": "code",
   "execution_count": 100,
   "metadata": {},
   "outputs": [
    {
     "data": {
      "text/plain": [
       "17921"
      ]
     },
     "execution_count": 100,
     "metadata": {},
     "output_type": "execute_result"
    }
   ],
   "source": [
    "int.from_bytes(b'F\\x01','big')"
   ]
  },
  {
   "cell_type": "code",
   "execution_count": 95,
   "metadata": {},
   "outputs": [
    {
     "name": "stdout",
     "output_type": "stream",
     "text": [
      "141\n"
     ]
    },
    {
     "data": {
      "text/plain": [
       "bytearray(b'\\x8d')"
      ]
     },
     "execution_count": 95,
     "metadata": {},
     "output_type": "execute_result"
    }
   ],
   "source": [
    "value = np.random.randint(0,255)\n",
    "print(value)\n",
    "bytearray([value])"
   ]
  },
  {
   "cell_type": "code",
   "execution_count": null,
   "metadata": {},
   "outputs": [],
   "source": []
  }
 ],
 "metadata": {
  "kernelspec": {
   "display_name": "base",
   "language": "python",
   "name": "python3"
  },
  "language_info": {
   "codemirror_mode": {
    "name": "ipython",
    "version": 3
   },
   "file_extension": ".py",
   "mimetype": "text/x-python",
   "name": "python",
   "nbconvert_exporter": "python",
   "pygments_lexer": "ipython3",
   "version": "3.11.4"
  },
  "orig_nbformat": 4
 },
 "nbformat": 4,
 "nbformat_minor": 2
}
