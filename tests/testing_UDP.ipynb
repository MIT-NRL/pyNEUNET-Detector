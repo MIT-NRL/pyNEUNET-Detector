{
 "cells": [
  {
   "cell_type": "markdown",
   "metadata": {},
   "source": [
    "# Imports"
   ]
  },
  {
   "cell_type": "code",
   "execution_count": 2,
   "metadata": {},
   "outputs": [],
   "source": [
    "import socket\n",
    "import time\n",
    "import datetime\n",
    "import numpy as np"
   ]
  },
  {
   "cell_type": "markdown",
   "metadata": {},
   "source": [
    "# UDP Testing"
   ]
  },
  {
   "cell_type": "code",
   "execution_count": 2,
   "metadata": {},
   "outputs": [],
   "source": [
    "IP_ADDRESS = \"192.168.0.17\"\n",
    "TCP_Port = 23\n",
    "UDP_Port = 4660"
   ]
  },
  {
   "cell_type": "code",
   "execution_count": 26,
   "metadata": {},
   "outputs": [],
   "source": [
    "sock = socket.socket(socket.AF_INET,socket.SOCK_DGRAM)"
   ]
  },
  {
   "cell_type": "code",
   "execution_count": 141,
   "metadata": {},
   "outputs": [
    {
     "name": "stdout",
     "output_type": "stream",
     "text": [
      "bytearray(b'\\xff\\xc0\\xaa\\x01\\x00\\x00\\x01\\x89')\n"
     ]
    }
   ],
   "source": [
    "address = 0x189\n",
    "readBytes = bytearray([0xFF,0xc0,0xaa,0x01]) + address.to_bytes(4,'big')\n",
    "print(readBytes)"
   ]
  },
  {
   "cell_type": "code",
   "execution_count": 126,
   "metadata": {},
   "outputs": [
    {
     "data": {
      "text/plain": [
       "'0b10000000'"
      ]
     },
     "execution_count": 126,
     "metadata": {},
     "output_type": "execute_result"
    }
   ],
   "source": [
    "bin(0x80)"
   ]
  },
  {
   "cell_type": "code",
   "execution_count": 143,
   "metadata": {},
   "outputs": [
    {
     "name": "stdout",
     "output_type": "stream",
     "text": [
      "bytearray(b'\\xff\\x80\\xaa\\x01\\x00\\x00\\x01\\x89@')\n"
     ]
    }
   ],
   "source": [
    "address = 0x189\n",
    "data = 0x40\n",
    "writeBytes = bytearray([0xFF,0x80,0xaa,0x01]) + address.to_bytes(4,'big') + bytes([data])\n",
    "print(writeBytes)"
   ]
  },
  {
   "cell_type": "code",
   "execution_count": 145,
   "metadata": {},
   "outputs": [
    {
     "name": "stdout",
     "output_type": "stream",
     "text": [
      "Header: b'\\xff\\xc8\\xaa\\x01\\x00\\x00\\x01\\x89'\n",
      "Data: b'@'\n"
     ]
    }
   ],
   "source": [
    "sock.sendto(readBytes,(IP_ADDRESS,UDP_Port))\n",
    "rec = sock.recv(1024)\n",
    "\n",
    "print(f\"Header: {rec[:8]}\\nData: {rec[8:]}\")"
   ]
  },
  {
   "cell_type": "code",
   "execution_count": 48,
   "metadata": {},
   "outputs": [
    {
     "data": {
      "text/plain": [
       "16"
      ]
     },
     "execution_count": 48,
     "metadata": {},
     "output_type": "execute_result"
    }
   ],
   "source": [
    "len(rec[0])"
   ]
  },
  {
   "cell_type": "code",
   "execution_count": 21,
   "metadata": {},
   "outputs": [
    {
     "data": {
      "text/plain": [
       "b'\\xff\\xc8\\x00\\xff\\x00\\x00\\x01\\xb5\\x00\\x90\\x00\\x00\\xff\\x00\\x00\\x00\\x00\\x00\\x00\\x00\\x00\\x00\\x00\\x00\\x00\\x00\\x00\\xea`\\x13\\x88+\\xf2\\x01\\xf4\\x13\\x87\\t\\x7f\\x7f\\x7f\\x7f\\x7f\\x05\\xb4\\x124\\x00\\x00\\x00\\x00\\x00\\x00\\x00\\x00\\x00\\x00\\x03\\xe8\\xea`\\x13\\x88+\\xf2\\x01\\xf4\\x01\\xf4\\xc0\\xa8\\x00\\x11\\x00\\x17\\x05\\xb4\\x124\\x00\\x00\\x00\\x00\\x00\\x00\\x00\\x00\\x00\\x00\\x03\\xe8\\xea`\\x13\\x88+\\xf2\\x01\\xf4\\x01\\xf4\\xc0\\xa8\\x00\\x11\\x00\\x17\\x05\\xb4\\x124\\x00\\x00\\x00\\x00\\x00\\x00\\x00\\x00\\x00\\x00\\x03\\xe8\\xea`\\x13\\x88+\\xf2\\x01\\xf4\\x01\\xf4\\xc0\\xa8\\x00\\x11\\x00\\x17\\x05\\xb4\\x124\\x00\\x00\\x00\\x00\\x00\\x00\\x00\\x00\\x00\\x00\\x03\\xe8\\xea`\\x13\\x88+\\xf2\\x01\\xf4\\x01\\xf4\\xc0\\xa8\\x00\\x11\\x00\\x17\\x05\\xb4\\x124\\x00\\x00\\x00\\x00\\x00\\x00\\x00\\x00\\x00\\x00\\x03\\xe8\\xea`\\x13\\x88+\\xf2\\x01\\xf4\\x01\\xf4\\xc0\\xa8\\x00\\x11\\x00\\x17\\x05\\xb4\\x124\\x00\\x00\\x00\\x00\\x00\\x00\\x00\\x00\\x00\\x00\\x03\\xe8\\xea`\\x13\\x88+\\xf2\\x01\\xf4\\x01\\xf4\\xc0\\xa8\\x00\\x11\\x00\\x17\\x05\\xb4\\x124\\x00\\x00\\x00\\x00\\x00\\x00\\x00\\x00\\x00\\x00\\x03\\xe8\\xea`\\x13\\x88+\\xf2\\x01\\xf4\\x01\\xf4\\xc0\\xa8'"
      ]
     },
     "execution_count": 21,
     "metadata": {},
     "output_type": "execute_result"
    }
   ],
   "source": [
    "rec[0]"
   ]
  },
  {
   "cell_type": "code",
   "execution_count": 12,
   "metadata": {},
   "outputs": [
    {
     "data": {
      "text/plain": [
       "'0b1000'"
      ]
     },
     "execution_count": 12,
     "metadata": {},
     "output_type": "execute_result"
    }
   ],
   "source": [
    "bin(0x8)"
   ]
  },
  {
   "cell_type": "code",
   "execution_count": 2,
   "metadata": {},
   "outputs": [
    {
     "data": {
      "text/plain": [
       "1"
      ]
     },
     "execution_count": 2,
     "metadata": {},
     "output_type": "execute_result"
    }
   ],
   "source": [
    "0x01"
   ]
  },
  {
   "cell_type": "code",
   "execution_count": 171,
   "metadata": {},
   "outputs": [
    {
     "data": {
      "text/plain": [
       "'ff:24:1b'"
      ]
     },
     "execution_count": 171,
     "metadata": {},
     "output_type": "execute_result"
    }
   ],
   "source": [
    "(bytes([0xff,0x24]) + bytes([0x1b])).hex(':')"
   ]
  },
  {
   "cell_type": "code",
   "execution_count": 173,
   "metadata": {},
   "outputs": [
    {
     "data": {
      "text/plain": [
       "False"
      ]
     },
     "execution_count": 173,
     "metadata": {},
     "output_type": "execute_result"
    }
   ],
   "source": [
    "test = 1\n",
    "isinstance(test,list)"
   ]
  },
  {
   "cell_type": "code",
   "execution_count": 243,
   "metadata": {},
   "outputs": [],
   "source": [
    "def UDP_Neunet(IP='192.168.0.17',port=4660,mode='r',ID=None,length=1,address=0x80,data=None,printOutput=False):\n",
    "        if mode == 'r':\n",
    "                modeByte = 0xc0\n",
    "        elif mode == 'w':\n",
    "                modeByte = 0x80\n",
    "        if ID is None:\n",
    "                ID = np.random.randint(0,255)\n",
    "        sendBytes = bytes([0xff,modeByte,ID,length]) + address.to_bytes(4,'big')\n",
    "        if data is not None:\n",
    "                if not isinstance(data,list):\n",
    "                        data = [data]\n",
    "                sendBytes += bytes(data)\n",
    "                \n",
    "        with socket.socket(socket.AF_INET,socket.SOCK_DGRAM) as sock:\n",
    "                sock.sendto(sendBytes,(IP,port))\n",
    "                recvData = sock.recv(1024)\n",
    "        flagByte = recvData[1] % 2**4\n",
    "        if flagByte % 2**1:\n",
    "                raise ConnectionRefusedError('Bus error! Check the format of the sent packet.',\n",
    "                                             f\"Send: {sendBytes.hex(':')}\\n\",\n",
    "                                             f\"Header : {recvData[:8].hex(':')}\\n\",\n",
    "                                             f\"Data : {recvData[8:].hex(':')}\"\n",
    "                                             )        \n",
    "        if printOutput:\n",
    "                print(f\"Send: {sendBytes.hex(':')}\\n\",\n",
    "                      f\"Header : {recvData[:8].hex(':')}\\n\",\n",
    "                      f\"Data : {recvData[8:].hex(':')}\")\n",
    "        return recvData"
   ]
  },
  {
   "cell_type": "code",
   "execution_count": 88,
   "metadata": {},
   "outputs": [
    {
     "name": "stdout",
     "output_type": "stream",
     "text": [
      "Send: ff:c0:53:06:00:00:01:b0\n",
      " Header : ff:c8:53:06:00:00:01:b0\n",
      " Data : 03:20:00:80:00:00\n"
     ]
    },
    {
     "data": {
      "text/plain": [
       "b'\\xff\\xc8S\\x06\\x00\\x00\\x01\\xb0\\x03 \\x00\\x80\\x00\\x00'"
      ]
     },
     "execution_count": 88,
     "metadata": {},
     "output_type": "execute_result"
    }
   ],
   "source": [
    "UDP_Neunet(address=0x1b0,length=6)"
   ]
  },
  {
   "cell_type": "code",
   "execution_count": 221,
   "metadata": {},
   "outputs": [
    {
     "data": {
      "text/plain": [
       "'0b1000'"
      ]
     },
     "execution_count": 221,
     "metadata": {},
     "output_type": "execute_result"
    }
   ],
   "source": [
    "output = b'\\xff\\xc8S\\x06\\x00\\x00\\x01\\xb0\\x03 \\x00\\x80\\x00\\x00'\n",
    "bin(output[1] % 2**4)"
   ]
  },
  {
   "cell_type": "code",
   "execution_count": 245,
   "metadata": {},
   "outputs": [
    {
     "ename": "ConnectionRefusedError",
     "evalue": "[Errno Bus error. Check the format of the sent packet.\n] fdhkdl\ndfjkldf",
     "output_type": "error",
     "traceback": [
      "\u001b[0;31m---------------------------------------------------------------------------\u001b[0m",
      "\u001b[0;31mConnectionRefusedError\u001b[0m                    Traceback (most recent call last)",
      "Cell \u001b[0;32mIn[245], line 2\u001b[0m\n\u001b[1;32m      1\u001b[0m \u001b[39mif\u001b[39;00m (\u001b[39m0b1011\u001b[39m \u001b[39m%\u001b[39m \u001b[39m2\u001b[39m\u001b[39m*\u001b[39m\u001b[39m*\u001b[39m\u001b[39m4\u001b[39m \u001b[39m%\u001b[39m \u001b[39m2\u001b[39m\u001b[39m*\u001b[39m\u001b[39m*\u001b[39m\u001b[39m1\u001b[39m):\n\u001b[0;32m----> 2\u001b[0m     \u001b[39mraise\u001b[39;00m \u001b[39mConnectionRefusedError\u001b[39;00m(\u001b[39m'\u001b[39m\u001b[39mBus error. Check the format of the sent packet.\u001b[39m\u001b[39m\\n\u001b[39;00m\u001b[39m'\u001b[39m,\u001b[39m'\u001b[39m\u001b[39mfdhkdl\u001b[39m\u001b[39m\\n\u001b[39;00m\u001b[39mdfjkldf\u001b[39m\u001b[39m'\u001b[39m)\n",
      "\u001b[0;31mConnectionRefusedError\u001b[0m: [Errno Bus error. Check the format of the sent packet.\n] fdhkdl\ndfjkldf"
     ]
    }
   ],
   "source": [
    "if (0b1011 % 2**4 % 2**1):\n",
    "    raise ConnectionRefusedError('Bus error. Check the format of the sent packet.\\n','fdhkdl\\ndfjkldf')"
   ]
  },
  {
   "cell_type": "code",
   "execution_count": 91,
   "metadata": {},
   "outputs": [
    {
     "name": "stdout",
     "output_type": "stream",
     "text": [
      "Send: ff:c0:53:01:00:00:01:b3\n",
      " Header : ff:c8:53:01:00:00:01:b3\n",
      " Data : 80\n"
     ]
    },
    {
     "data": {
      "text/plain": [
       "b'\\xff\\xc8S\\x01\\x00\\x00\\x01\\xb3\\x80'"
      ]
     },
     "execution_count": 91,
     "metadata": {},
     "output_type": "execute_result"
    }
   ],
   "source": [
    "UDP_Neunet(address=0x1b3)"
   ]
  },
  {
   "cell_type": "code",
   "execution_count": 94,
   "metadata": {},
   "outputs": [
    {
     "name": "stdout",
     "output_type": "stream",
     "text": [
      "Send: ff:c0:88:1b:00:00:00:80\n",
      " Header : ff:c8:88:1b:00:00:00:80\n",
      " Data : 00:00:00:00:00:00:03:e8:ea:60:13:88:2b:f2:01:f4:01:f4:c0:a8:00:11:00:17:05:b4:12\n"
     ]
    }
   ],
   "source": [
    "readOnlyBytesStartup = UDP_Neunet(length=(0x9b-0x80),address=0x80).hex(':')\n",
    "with open('readOnlyBytes.dat','w') as openFile:\n",
    "    openFile.write(readOnlyBytesStartup)"
   ]
  },
  {
   "cell_type": "code",
   "execution_count": 89,
   "metadata": {},
   "outputs": [
    {
     "name": "stdout",
     "output_type": "stream",
     "text": [
      "b'\\x01\\x80'\n",
      "Send: ff:c0:3d:08:00:00:01:80\n",
      " Header : ff:c8:3d:08:00:00:01:80\n",
      " Data : 00:c0:00:00:00:00:00:00\n",
      "b'\\x01\\x88'\n",
      "Send: ff:c0:9d:03:00:00:01:88\n",
      " Header : ff:c8:9d:03:00:00:01:88\n",
      " Data : 00:00:00\n",
      "b'\\x01\\x8b'\n",
      "Send: ff:c0:8e:05:00:00:01:8b\n",
      " Header : ff:c8:8e:05:00:00:01:8b\n",
      " Data : 00:00:00:00:00\n",
      "b'\\x01\\x90'\n",
      "Send: ff:c0:0f:07:00:00:01:90\n",
      " Header : ff:c8:0f:07:00:00:01:90\n",
      " Data : 00:00:2a:b5:d1:03:74\n",
      "b'\\x01\\x98'\n",
      "Send: ff:c0:36:08:00:00:01:98\n",
      " Header : ff:c8:36:08:00:00:01:98\n",
      " Data : ff:ff:ff:ff:ff:ff:ff:ff\n",
      "b'\\x01\\xb0'\n",
      "Send: ff:c0:18:06:00:00:01:b0\n",
      " Header : ff:c8:18:06:00:00:01:b0\n",
      " Data : 03:20:00:80:00:00\n"
     ]
    }
   ],
   "source": [
    "startupBytes = []\n",
    "startupBytes.append('        '+'|'.join(['+'+str(x) for x in range(8)]))\n",
    "for address,length in zip([0x180,0x188,0x18b,0x190,0x198,0x1b0],[8,3,5,7,8,6]):\n",
    "    # print(address.to_bytes(2,'big'),(address+length).to_bytes(2,'big'))\n",
    "    print(address.to_bytes(2,'big'))\n",
    "    startupBytes.append(str(hex(address))+' = '+UDP_Neunet(length=length,address=address)[8:].hex(':'))"
   ]
  },
  {
   "cell_type": "code",
   "execution_count": 98,
   "metadata": {},
   "outputs": [],
   "source": [
    "with open('startupBytes.dat','w') as openFile:\n",
    "    openFile.writelines('\\n'.join(startupBytes))"
   ]
  },
  {
   "cell_type": "code",
   "execution_count": 99,
   "metadata": {},
   "outputs": [
    {
     "name": "stdout",
     "output_type": "stream",
     "text": [
      "b'\\x01\\x80'\n",
      "Send: ff:c0:8a:08:00:00:01:80\n",
      " Header : ff:c8:8a:08:00:00:01:80\n",
      " Data : 00:80:00:80:00:80:00:00\n",
      "b'\\x01\\x88'\n",
      "Send: ff:c0:02:03:00:00:01:88\n",
      " Header : ff:c8:02:03:00:00:01:88\n",
      " Data : 00:00:80\n",
      "b'\\x01\\x8b'\n",
      "Send: ff:c0:fb:05:00:00:01:8b\n",
      " Header : ff:c8:fb:05:00:00:01:8b\n",
      " Data : 00:00:00:10:8e\n",
      "b'\\x01\\x90'\n",
      "Send: ff:c0:a1:07:00:00:01:90\n",
      " Header : ff:c8:a1:07:00:00:01:90\n",
      " Data : 1d:5a:e3:79:7f:8e:ad\n",
      "b'\\x01\\x98'\n",
      "Send: ff:c0:ab:08:00:00:01:98\n",
      " Header : ff:c8:ab:08:00:00:01:98\n",
      " Data : ff:ff:ff:ff:ff:ff:ff:ff\n",
      "b'\\x01\\xb0'\n",
      "Send: ff:c0:6c:06:00:00:01:b0\n",
      " Header : ff:c8:6c:06:00:00:01:b0\n",
      " Data : 03:20:00:80:8a:80\n"
     ]
    }
   ],
   "source": [
    "runningBytes = []\n",
    "runningBytes.append('        '+'|'.join(['+'+str(x) for x in range(8)]))\n",
    "for address,length in zip([0x180,0x188,0x18b,0x190,0x198,0x1b0],[8,3,5,7,8,6]):\n",
    "    # print(address.to_bytes(2,'big'),(address+length).to_bytes(2,'big'))\n",
    "    print(address.to_bytes(2,'big'))\n",
    "    runningBytes.append(str(hex(address))+' = '+UDP_Neunet(length=length,address=address)[8:].hex(':'))"
   ]
  },
  {
   "cell_type": "code",
   "execution_count": 100,
   "metadata": {},
   "outputs": [],
   "source": [
    "with open('runningBytes2.dat','w') as openFile:\n",
    "    openFile.writelines('\\n'.join(runningBytes))"
   ]
  },
  {
   "cell_type": "markdown",
   "metadata": {},
   "source": [
    "# Instrument time"
   ]
  },
  {
   "cell_type": "code",
   "execution_count": 89,
   "metadata": {},
   "outputs": [
    {
     "name": "stdout",
     "output_type": "stream",
     "text": [
      "492534739.475024\n",
      "1d:5b:7b:d3\n",
      "79\n"
     ]
    }
   ],
   "source": [
    "secondsSince2008 = (datetime.datetime.now() - datetime.datetime(2008,1,1,0,0)).total_seconds()\n",
    "print(secondsSince2008)\n",
    "secondsBytes = int(secondsSince2008).to_bytes(4,'big')\n",
    "print(secondsBytes.hex(':'))\n",
    "subsecondsBytes = int(secondsSince2008 % 1 * 2**8).to_bytes(1,'big')\n",
    "print(subsecondsBytes.hex())"
   ]
  },
  {
   "cell_type": "code",
   "execution_count": 110,
   "metadata": {},
   "outputs": [
    {
     "data": {
      "text/plain": [
       "'1d:5b:7b:d3:79:66'"
      ]
     },
     "execution_count": 110,
     "metadata": {},
     "output_type": "execute_result"
    }
   ],
   "source": [
    "(secondsBytes + subsecondsBytes + bytes([0x66])).hex(':')"
   ]
  },
  {
   "cell_type": "code",
   "execution_count": 156,
   "metadata": {},
   "outputs": [],
   "source": [
    "def instrument_time(input=None,mode='seconds'):\n",
    "    '''\n",
    "    Function to convert time from bytes to seconds and the reverse.\n",
    "    Time is defined as seconds since 2008\n",
    "\n",
    "    Parameters\n",
    "    ---------\n",
    "    input : 5 bytes representing time, optional\n",
    "        If input is None, the current time will be output as 5 bytes\n",
    "    mode : str\n",
    "        'seconds' : output time in seconds\n",
    "        'datetime' : output time in datetime\n",
    "\n",
    "    '''\n",
    "    if input is None:\n",
    "        secondsSince2008 = (datetime.datetime.now() - datetime.datetime(2008,1,1,0,0)).total_seconds()\n",
    "        print(secondsSince2008)\n",
    "        secondsBytes = int(secondsSince2008).to_bytes(4,'big')\n",
    "        subsecondsBytes = int(secondsSince2008 % 1 * 2**8).to_bytes(1,'big')\n",
    "        print(subsecondsBytes[0])\n",
    "        return secondsBytes + subsecondsBytes\n",
    "    else:\n",
    "        intSeconds = int.from_bytes(input[:4],'big')\n",
    "        intSubSeconds = input[-1]\n",
    "        secondsSince2008 = intSeconds + (intSubSeconds / 2**8)\n",
    "        if mode == 'seconds':\n",
    "            return secondsSince2008\n",
    "        elif mode == 'datetime':\n",
    "            return datetime.datetime(2008,1,1) + secondsSince2008\n"
   ]
  },
  {
   "cell_type": "code",
   "execution_count": 157,
   "metadata": {},
   "outputs": [
    {
     "name": "stdout",
     "output_type": "stream",
     "text": [
      "492536497.797884\n",
      "204\n"
     ]
    }
   ],
   "source": [
    "testTime = instrument_time()"
   ]
  },
  {
   "cell_type": "code",
   "execution_count": 145,
   "metadata": {},
   "outputs": [
    {
     "name": "stdout",
     "output_type": "stream",
     "text": [
      "1d:5b:7d:4a:99\n"
     ]
    },
    {
     "data": {
      "text/plain": [
       "153"
      ]
     },
     "execution_count": 145,
     "metadata": {},
     "output_type": "execute_result"
    }
   ],
   "source": [
    "print(testTime.hex(':'))\n",
    "int.from_bytes(testTime[0:4],'big')\n",
    "testTime[-1]"
   ]
  },
  {
   "cell_type": "code",
   "execution_count": 146,
   "metadata": {},
   "outputs": [
    {
     "data": {
      "text/plain": [
       "0.59765625"
      ]
     },
     "execution_count": 146,
     "metadata": {},
     "output_type": "execute_result"
    }
   ],
   "source": [
    "153 / (2**8)"
   ]
  },
  {
   "cell_type": "code",
   "execution_count": 153,
   "metadata": {},
   "outputs": [],
   "source": [
    "import SeanFunctions as sf"
   ]
  },
  {
   "cell_type": "code",
   "execution_count": 155,
   "metadata": {},
   "outputs": [
    {
     "name": "stdout",
     "output_type": "stream",
     "text": [
      "\u001b[0;31mSignature:\u001b[0m \u001b[0msf\u001b[0m\u001b[0;34m.\u001b[0m\u001b[0mmath\u001b[0m\u001b[0;34m.\u001b[0m\u001b[0mfourierbesseltransform\u001b[0m\u001b[0;34m(\u001b[0m\u001b[0mq\u001b[0m\u001b[0;34m,\u001b[0m \u001b[0mint1\u001b[0m\u001b[0;34m,\u001b[0m \u001b[0munpack\u001b[0m\u001b[0;34m=\u001b[0m\u001b[0;32mNone\u001b[0m\u001b[0;34m)\u001b[0m\u001b[0;34m\u001b[0m\u001b[0;34m\u001b[0m\u001b[0m\n",
      "\u001b[0;31mDocstring:\u001b[0m\n",
      "Discrete fourier bessel transform for conversion between S(Q) and g(r)\n",
      "\n",
      "Parameters\n",
      "--------\n",
      "q : array_like\n",
      "    Input array of Q (or r) values\n",
      "int1 : array_like\n",
      "    Input array of the structure factor S values (or PDF values)\n",
      "unpack : bool, optional\n",
      "    If unpack is True, the result will be output as a tuple to \n",
      "    more easily define separate variables from the result\n",
      "\n",
      "Returns \n",
      "--------\n",
      "r : ndarray\n",
      "    array of the real space distance (or Q) values.\n",
      "ft : ndarray\n",
      "    fourier transform result. Returns the PDF (or S) values.\n",
      "\u001b[0;31mFile:\u001b[0m      ~/mambaforge/lib/python3.11/site-packages/SeanFunctions/math.py\n",
      "\u001b[0;31mType:\u001b[0m      function"
     ]
    }
   ],
   "source": [
    "sf.math.fourierbesseltransform?"
   ]
  },
  {
   "cell_type": "code",
   "execution_count": 159,
   "metadata": {},
   "outputs": [
    {
     "data": {
      "text/plain": [
       "492536497.796875"
      ]
     },
     "execution_count": 159,
     "metadata": {},
     "output_type": "execute_result"
    }
   ],
   "source": [
    "instrument_time(testTime)"
   ]
  },
  {
   "cell_type": "code",
   "execution_count": null,
   "metadata": {},
   "outputs": [],
   "source": []
  }
 ],
 "metadata": {
  "kernelspec": {
   "display_name": "Python 3 (base)",
   "language": "python",
   "name": "base"
  },
  "language_info": {
   "codemirror_mode": {
    "name": "ipython",
    "version": 3
   },
   "file_extension": ".py",
   "mimetype": "text/x-python",
   "name": "python",
   "nbconvert_exporter": "python",
   "pygments_lexer": "ipython3",
   "version": "3.11.4"
  },
  "orig_nbformat": 4
 },
 "nbformat": 4,
 "nbformat_minor": 2
}
