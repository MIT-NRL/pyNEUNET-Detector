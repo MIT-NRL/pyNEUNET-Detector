{
 "cells": [
  {
   "cell_type": "markdown",
   "metadata": {},
   "source": [
    "# Imports"
   ]
  },
  {
   "cell_type": "code",
   "execution_count": 25,
   "metadata": {},
   "outputs": [],
   "source": [
    "import socket\n",
    "import time\n",
    "import datetime\n",
    "import numpy as np"
   ]
  },
  {
   "cell_type": "markdown",
   "metadata": {},
   "source": [
    "# UDP Testing"
   ]
  },
  {
   "cell_type": "code",
   "execution_count": 2,
   "metadata": {},
   "outputs": [],
   "source": [
    "IP_ADDRESS = \"192.168.0.17\"\n",
    "TCP_Port = 23\n",
    "UDP_Port = 4660"
   ]
  },
  {
   "cell_type": "code",
   "execution_count": 26,
   "metadata": {},
   "outputs": [],
   "source": [
    "sock = socket.socket(socket.AF_INET,socket.SOCK_DGRAM)"
   ]
  },
  {
   "cell_type": "code",
   "execution_count": 141,
   "metadata": {},
   "outputs": [
    {
     "name": "stdout",
     "output_type": "stream",
     "text": [
      "bytearray(b'\\xff\\xc0\\xaa\\x01\\x00\\x00\\x01\\x89')\n"
     ]
    }
   ],
   "source": [
    "address = 0x189\n",
    "readBytes = bytearray([0xFF,0xc0,0xaa,0x01]) + address.to_bytes(4,'big')\n",
    "print(readBytes)"
   ]
  },
  {
   "cell_type": "code",
   "execution_count": 126,
   "metadata": {},
   "outputs": [
    {
     "data": {
      "text/plain": [
       "'0b10000000'"
      ]
     },
     "execution_count": 126,
     "metadata": {},
     "output_type": "execute_result"
    }
   ],
   "source": [
    "bin(0x80)"
   ]
  },
  {
   "cell_type": "code",
   "execution_count": 143,
   "metadata": {},
   "outputs": [
    {
     "name": "stdout",
     "output_type": "stream",
     "text": [
      "bytearray(b'\\xff\\x80\\xaa\\x01\\x00\\x00\\x01\\x89@')\n"
     ]
    }
   ],
   "source": [
    "address = 0x189\n",
    "data = 0x40\n",
    "writeBytes = bytearray([0xFF,0x80,0xaa,0x01]) + address.to_bytes(4,'big') + bytes([data])\n",
    "print(writeBytes)"
   ]
  },
  {
   "cell_type": "code",
   "execution_count": 145,
   "metadata": {},
   "outputs": [
    {
     "name": "stdout",
     "output_type": "stream",
     "text": [
      "Header: b'\\xff\\xc8\\xaa\\x01\\x00\\x00\\x01\\x89'\n",
      "Data: b'@'\n"
     ]
    }
   ],
   "source": [
    "sock.sendto(readBytes,(IP_ADDRESS,UDP_Port))\n",
    "rec = sock.recv(1024)\n",
    "\n",
    "print(f\"Header: {rec[:8]}\\nData: {rec[8:]}\")"
   ]
  },
  {
   "cell_type": "code",
   "execution_count": 48,
   "metadata": {},
   "outputs": [
    {
     "data": {
      "text/plain": [
       "16"
      ]
     },
     "execution_count": 48,
     "metadata": {},
     "output_type": "execute_result"
    }
   ],
   "source": [
    "len(rec[0])"
   ]
  },
  {
   "cell_type": "code",
   "execution_count": 21,
   "metadata": {},
   "outputs": [
    {
     "data": {
      "text/plain": [
       "b'\\xff\\xc8\\x00\\xff\\x00\\x00\\x01\\xb5\\x00\\x90\\x00\\x00\\xff\\x00\\x00\\x00\\x00\\x00\\x00\\x00\\x00\\x00\\x00\\x00\\x00\\x00\\x00\\xea`\\x13\\x88+\\xf2\\x01\\xf4\\x13\\x87\\t\\x7f\\x7f\\x7f\\x7f\\x7f\\x05\\xb4\\x124\\x00\\x00\\x00\\x00\\x00\\x00\\x00\\x00\\x00\\x00\\x03\\xe8\\xea`\\x13\\x88+\\xf2\\x01\\xf4\\x01\\xf4\\xc0\\xa8\\x00\\x11\\x00\\x17\\x05\\xb4\\x124\\x00\\x00\\x00\\x00\\x00\\x00\\x00\\x00\\x00\\x00\\x03\\xe8\\xea`\\x13\\x88+\\xf2\\x01\\xf4\\x01\\xf4\\xc0\\xa8\\x00\\x11\\x00\\x17\\x05\\xb4\\x124\\x00\\x00\\x00\\x00\\x00\\x00\\x00\\x00\\x00\\x00\\x03\\xe8\\xea`\\x13\\x88+\\xf2\\x01\\xf4\\x01\\xf4\\xc0\\xa8\\x00\\x11\\x00\\x17\\x05\\xb4\\x124\\x00\\x00\\x00\\x00\\x00\\x00\\x00\\x00\\x00\\x00\\x03\\xe8\\xea`\\x13\\x88+\\xf2\\x01\\xf4\\x01\\xf4\\xc0\\xa8\\x00\\x11\\x00\\x17\\x05\\xb4\\x124\\x00\\x00\\x00\\x00\\x00\\x00\\x00\\x00\\x00\\x00\\x03\\xe8\\xea`\\x13\\x88+\\xf2\\x01\\xf4\\x01\\xf4\\xc0\\xa8\\x00\\x11\\x00\\x17\\x05\\xb4\\x124\\x00\\x00\\x00\\x00\\x00\\x00\\x00\\x00\\x00\\x00\\x03\\xe8\\xea`\\x13\\x88+\\xf2\\x01\\xf4\\x01\\xf4\\xc0\\xa8\\x00\\x11\\x00\\x17\\x05\\xb4\\x124\\x00\\x00\\x00\\x00\\x00\\x00\\x00\\x00\\x00\\x00\\x03\\xe8\\xea`\\x13\\x88+\\xf2\\x01\\xf4\\x01\\xf4\\xc0\\xa8'"
      ]
     },
     "execution_count": 21,
     "metadata": {},
     "output_type": "execute_result"
    }
   ],
   "source": [
    "rec[0]"
   ]
  },
  {
   "cell_type": "code",
   "execution_count": 12,
   "metadata": {},
   "outputs": [
    {
     "data": {
      "text/plain": [
       "'0b1000'"
      ]
     },
     "execution_count": 12,
     "metadata": {},
     "output_type": "execute_result"
    }
   ],
   "source": [
    "bin(0x8)"
   ]
  },
  {
   "cell_type": "code",
   "execution_count": 2,
   "metadata": {},
   "outputs": [
    {
     "data": {
      "text/plain": [
       "1"
      ]
     },
     "execution_count": 2,
     "metadata": {},
     "output_type": "execute_result"
    }
   ],
   "source": [
    "0x01"
   ]
  },
  {
   "cell_type": "code",
   "execution_count": 171,
   "metadata": {},
   "outputs": [
    {
     "data": {
      "text/plain": [
       "'ff:24:1b'"
      ]
     },
     "execution_count": 171,
     "metadata": {},
     "output_type": "execute_result"
    }
   ],
   "source": [
    "(bytes([0xff,0x24]) + bytes([0x1b])).hex(':')"
   ]
  },
  {
   "cell_type": "code",
   "execution_count": 173,
   "metadata": {},
   "outputs": [
    {
     "data": {
      "text/plain": [
       "False"
      ]
     },
     "execution_count": 173,
     "metadata": {},
     "output_type": "execute_result"
    }
   ],
   "source": [
    "test = 1\n",
    "isinstance(test,list)"
   ]
  },
  {
   "cell_type": "code",
   "execution_count": 53,
   "metadata": {},
   "outputs": [
    {
     "name": "stdout",
     "output_type": "stream",
     "text": [
      "bytearray(b'\\xff@\\x804')\n"
     ]
    }
   ],
   "source": [
    "send = bytearray([0xff,0x40,0x80]) + bytearray([0x34])\n",
    "print(send)"
   ]
  },
  {
   "cell_type": "code",
   "execution_count": 61,
   "metadata": {},
   "outputs": [
    {
     "data": {
      "text/plain": [
       "b'\\x00'"
      ]
     },
     "execution_count": 61,
     "metadata": {},
     "output_type": "execute_result"
    }
   ],
   "source": [
    "bytes([0x0])"
   ]
  },
  {
   "cell_type": "code",
   "execution_count": 56,
   "metadata": {},
   "outputs": [
    {
     "data": {
      "text/plain": [
       "'0x80'"
      ]
     },
     "execution_count": 56,
     "metadata": {},
     "output_type": "execute_result"
    }
   ],
   "source": [
    "hex(send[2])"
   ]
  },
  {
   "cell_type": "code",
   "execution_count": 62,
   "metadata": {},
   "outputs": [],
   "source": [
    "def UDP_Neunet(IP='192.168.0.17',port=4660,ID=None,length=1,address=0x80,data=None,printOutput=False):\n",
    "        modeRead,modeWrite = 0xc0, 0x80\n",
    "        if ID is None:\n",
    "                ID = np.random.randint(0,255)\n",
    "        sendBytes = bytearray([0xff,0x00,ID,length]) + address.to_bytes(4,'big')\n",
    "        if data is not None:\n",
    "                if not isinstance(data,list):\n",
    "                        data = [data]\n",
    "                sendBytes += bytearray(data)\n",
    "                sendBytes[1] = modeWrite\n",
    "                sendBytes[3] = len(data) #Make the length match sent byte length automatically\n",
    "        else:\n",
    "                sendBytes[1] = modeRead\n",
    "                \n",
    "        with socket.socket(socket.AF_INET,socket.SOCK_DGRAM) as sock:\n",
    "                sock.sendto(sendBytes,(IP,port))\n",
    "                recvData = sock.recv(1024)\n",
    "        flagByte = recvData[1] % 2**4\n",
    "        if flagByte % 2**1:\n",
    "                raise ConnectionRefusedError('Bus error! Check the format of the sent packet.',\n",
    "                                             f\"Send: {sendBytes.hex(':')}\\n\",\n",
    "                                             f\"Header : {recvData[:8].hex(':')}\\n\",\n",
    "                                             f\"Data : {recvData[8:].hex(':')}\"\n",
    "                                             )        \n",
    "        if printOutput:\n",
    "                print(f\"Send: {sendBytes.hex(':')}\\n\",\n",
    "                      f\"Header : {recvData[:8].hex(':')}\\n\",\n",
    "                      f\"Data : {recvData[8:].hex(':')}\")\n",
    "        return recvData"
   ]
  },
  {
   "cell_type": "code",
   "execution_count": 57,
   "metadata": {},
   "outputs": [
    {
     "data": {
      "text/plain": [
       "b'\\x1d[\\xa0&p'"
      ]
     },
     "execution_count": 57,
     "metadata": {},
     "output_type": "execute_result"
    }
   ],
   "source": [
    "instrument_time()"
   ]
  },
  {
   "cell_type": "code",
   "execution_count": 68,
   "metadata": {},
   "outputs": [
    {
     "data": {
      "text/plain": [
       "'0x80'"
      ]
     },
     "execution_count": 68,
     "metadata": {},
     "output_type": "execute_result"
    }
   ],
   "source": [
    "hex(0b10000000)"
   ]
  },
  {
   "cell_type": "code",
   "execution_count": null,
   "metadata": {},
   "outputs": [],
   "source": [
    "\n",
    "def startupUPD():\n",
    "    #Set time to 32-bit mode\n",
    "    responseByte = UDP_Neunet(address=0x18a,data=0x80)\n",
    "\n",
    "    #First send the computer time to the instrument\n",
    "    instrument_time(UDP_Neunet(address=0x190,length=5),mode='datetime')\n",
    "    responseByte = UDP_Neunet(address=0x190,data=instrument_time())\n",
    "    instrument_time(UDP_Neunet(address=0x190,length=5),mode='datetime')\n",
    "\n",
    "    #Set event memory read mode\n",
    "    responseByte = UDP_Neunet(address=0x186,data=bytes([0x00,0x00]))\n",
    "\n",
    "    #Set one-way mode\n",
    "    responseByte = UDP_Neunet(address=0x1b5,data=0x80)\n",
    "\n",
    "    # #FIFO buffer cleared\n",
    "    # responseByte = UDP_Neunet(address=0x189,data=0x60)"
   ]
  },
  {
   "cell_type": "code",
   "execution_count": 60,
   "metadata": {},
   "outputs": [
    {
     "data": {
      "text/plain": [
       "'0x60'"
      ]
     },
     "execution_count": 60,
     "metadata": {},
     "output_type": "execute_result"
    }
   ],
   "source": [
    "hex(0b1100000)"
   ]
  },
  {
   "cell_type": "code",
   "execution_count": 3,
   "metadata": {},
   "outputs": [
    {
     "data": {
      "text/plain": [
       "'0b1000000'"
      ]
     },
     "execution_count": 3,
     "metadata": {},
     "output_type": "execute_result"
    }
   ],
   "source": [
    "bin(0x40)"
   ]
  },
  {
   "cell_type": "code",
   "execution_count": 88,
   "metadata": {},
   "outputs": [
    {
     "name": "stdout",
     "output_type": "stream",
     "text": [
      "Send: ff:c0:53:06:00:00:01:b0\n",
      " Header : ff:c8:53:06:00:00:01:b0\n",
      " Data : 03:20:00:80:00:00\n"
     ]
    },
    {
     "data": {
      "text/plain": [
       "b'\\xff\\xc8S\\x06\\x00\\x00\\x01\\xb0\\x03 \\x00\\x80\\x00\\x00'"
      ]
     },
     "execution_count": 88,
     "metadata": {},
     "output_type": "execute_result"
    }
   ],
   "source": [
    "UDP_Neunet(address=0x1b0,length=6)"
   ]
  },
  {
   "cell_type": "code",
   "execution_count": 221,
   "metadata": {},
   "outputs": [
    {
     "data": {
      "text/plain": [
       "'0b1000'"
      ]
     },
     "execution_count": 221,
     "metadata": {},
     "output_type": "execute_result"
    }
   ],
   "source": [
    "output = b'\\xff\\xc8S\\x06\\x00\\x00\\x01\\xb0\\x03 \\x00\\x80\\x00\\x00'\n",
    "bin(output[1] % 2**4)"
   ]
  },
  {
   "cell_type": "code",
   "execution_count": 71,
   "metadata": {},
   "outputs": [
    {
     "ename": "KeyboardInterrupt",
     "evalue": "",
     "output_type": "error",
     "traceback": [
      "\u001b[0;31m---------------------------------------------------------------------------\u001b[0m",
      "\u001b[0;31mKeyboardInterrupt\u001b[0m                         Traceback (most recent call last)",
      "Cell \u001b[0;32mIn[71], line 1\u001b[0m\n\u001b[0;32m----> 1\u001b[0m UDP_Neunet(address\u001b[39m=\u001b[39;49m\u001b[39m0x1b3\u001b[39;49m)\n",
      "Cell \u001b[0;32mIn[62], line 17\u001b[0m, in \u001b[0;36mUDP_Neunet\u001b[0;34m(IP, port, ID, length, address, data, printOutput)\u001b[0m\n\u001b[1;32m     15\u001b[0m \u001b[39mwith\u001b[39;00m socket\u001b[39m.\u001b[39msocket(socket\u001b[39m.\u001b[39mAF_INET,socket\u001b[39m.\u001b[39mSOCK_DGRAM) \u001b[39mas\u001b[39;00m sock:\n\u001b[1;32m     16\u001b[0m         sock\u001b[39m.\u001b[39msendto(sendBytes,(IP,port))\n\u001b[0;32m---> 17\u001b[0m         recvData \u001b[39m=\u001b[39m sock\u001b[39m.\u001b[39;49mrecv(\u001b[39m1024\u001b[39;49m)\n\u001b[1;32m     18\u001b[0m flagByte \u001b[39m=\u001b[39m recvData[\u001b[39m1\u001b[39m] \u001b[39m%\u001b[39m \u001b[39m2\u001b[39m\u001b[39m*\u001b[39m\u001b[39m*\u001b[39m\u001b[39m4\u001b[39m\n\u001b[1;32m     19\u001b[0m \u001b[39mif\u001b[39;00m flagByte \u001b[39m%\u001b[39m \u001b[39m2\u001b[39m\u001b[39m*\u001b[39m\u001b[39m*\u001b[39m\u001b[39m1\u001b[39m:\n",
      "\u001b[0;31mKeyboardInterrupt\u001b[0m: "
     ]
    }
   ],
   "source": [
    "UDP_Neunet(address=0x1b3)"
   ]
  },
  {
   "cell_type": "code",
   "execution_count": 94,
   "metadata": {},
   "outputs": [
    {
     "name": "stdout",
     "output_type": "stream",
     "text": [
      "Send: ff:c0:88:1b:00:00:00:80\n",
      " Header : ff:c8:88:1b:00:00:00:80\n",
      " Data : 00:00:00:00:00:00:03:e8:ea:60:13:88:2b:f2:01:f4:01:f4:c0:a8:00:11:00:17:05:b4:12\n"
     ]
    }
   ],
   "source": [
    "readOnlyBytesStartup = UDP_Neunet(length=(0x9b-0x80),address=0x80).hex(':')\n",
    "with open('readOnlyBytes.dat','w') as openFile:\n",
    "    openFile.write(readOnlyBytesStartup)"
   ]
  },
  {
   "cell_type": "code",
   "execution_count": null,
   "metadata": {},
   "outputs": [],
   "source": [
    "def export_Register(outputFileStr):\n",
    "    udpBytes = []\n",
    "    udpBytes.append('        '+'|'.join(['+'+str(x) for x in range(8)]))\n",
    "    for address,length in zip([0x180,0x188,0x18b,0x190,0x198,0x1b0],[8,3,5,7,8,6]):\n",
    "        # print(address.to_bytes(2,'big'),(address+length).to_bytes(2,'big'))\n",
    "        # print(address.to_bytes(2,'big'))\n",
    "        udpBytes.append(str(hex(address))+' = '+UDP_Neunet(length=length,address=address)[8:].hex(':'))\n",
    "\n",
    "    with open(outputFileStr,'w') as openFile:\n",
    "        openFile.writelines('\\n'.join(udpBytes))"
   ]
  },
  {
   "cell_type": "code",
   "execution_count": 70,
   "metadata": {},
   "outputs": [
    {
     "name": "stdout",
     "output_type": "stream",
     "text": [
      "b'\\x01\\x80'\n"
     ]
    },
    {
     "ename": "KeyboardInterrupt",
     "evalue": "",
     "output_type": "error",
     "traceback": [
      "\u001b[0;31m---------------------------------------------------------------------------\u001b[0m",
      "\u001b[0;31mKeyboardInterrupt\u001b[0m                         Traceback (most recent call last)",
      "Cell \u001b[0;32mIn[70], line 1\u001b[0m\n\u001b[0;32m----> 1\u001b[0m export_Register(\u001b[39m'\u001b[39;49m\u001b[39mNEUNET Register/testBytes.dat\u001b[39;49m\u001b[39m'\u001b[39;49m)\n",
      "Cell \u001b[0;32mIn[69], line 7\u001b[0m, in \u001b[0;36mexport_Register\u001b[0;34m(outputFileStr)\u001b[0m\n\u001b[1;32m      4\u001b[0m \u001b[39mfor\u001b[39;00m address,length \u001b[39min\u001b[39;00m \u001b[39mzip\u001b[39m([\u001b[39m0x180\u001b[39m,\u001b[39m0x188\u001b[39m,\u001b[39m0x18b\u001b[39m,\u001b[39m0x190\u001b[39m,\u001b[39m0x198\u001b[39m,\u001b[39m0x1b0\u001b[39m],[\u001b[39m8\u001b[39m,\u001b[39m3\u001b[39m,\u001b[39m5\u001b[39m,\u001b[39m7\u001b[39m,\u001b[39m8\u001b[39m,\u001b[39m6\u001b[39m]):\n\u001b[1;32m      5\u001b[0m     \u001b[39m# print(address.to_bytes(2,'big'),(address+length).to_bytes(2,'big'))\u001b[39;00m\n\u001b[1;32m      6\u001b[0m     \u001b[39mprint\u001b[39m(address\u001b[39m.\u001b[39mto_bytes(\u001b[39m2\u001b[39m,\u001b[39m'\u001b[39m\u001b[39mbig\u001b[39m\u001b[39m'\u001b[39m))\n\u001b[0;32m----> 7\u001b[0m     udpBytes\u001b[39m.\u001b[39mappend(\u001b[39mstr\u001b[39m(\u001b[39mhex\u001b[39m(address))\u001b[39m+\u001b[39m\u001b[39m'\u001b[39m\u001b[39m = \u001b[39m\u001b[39m'\u001b[39m\u001b[39m+\u001b[39mUDP_Neunet(length\u001b[39m=\u001b[39;49mlength,address\u001b[39m=\u001b[39;49maddress)[\u001b[39m8\u001b[39m:]\u001b[39m.\u001b[39mhex(\u001b[39m'\u001b[39m\u001b[39m:\u001b[39m\u001b[39m'\u001b[39m))\n\u001b[1;32m      9\u001b[0m \u001b[39mwith\u001b[39;00m \u001b[39mopen\u001b[39m(outputFileStr,\u001b[39m'\u001b[39m\u001b[39mw\u001b[39m\u001b[39m'\u001b[39m) \u001b[39mas\u001b[39;00m openFile:\n\u001b[1;32m     10\u001b[0m     openFile\u001b[39m.\u001b[39mwritelines(\u001b[39m'\u001b[39m\u001b[39m\\n\u001b[39;00m\u001b[39m'\u001b[39m\u001b[39m.\u001b[39mjoin(udpBytes))\n",
      "Cell \u001b[0;32mIn[62], line 17\u001b[0m, in \u001b[0;36mUDP_Neunet\u001b[0;34m(IP, port, ID, length, address, data, printOutput)\u001b[0m\n\u001b[1;32m     15\u001b[0m \u001b[39mwith\u001b[39;00m socket\u001b[39m.\u001b[39msocket(socket\u001b[39m.\u001b[39mAF_INET,socket\u001b[39m.\u001b[39mSOCK_DGRAM) \u001b[39mas\u001b[39;00m sock:\n\u001b[1;32m     16\u001b[0m         sock\u001b[39m.\u001b[39msendto(sendBytes,(IP,port))\n\u001b[0;32m---> 17\u001b[0m         recvData \u001b[39m=\u001b[39m sock\u001b[39m.\u001b[39;49mrecv(\u001b[39m1024\u001b[39;49m)\n\u001b[1;32m     18\u001b[0m flagByte \u001b[39m=\u001b[39m recvData[\u001b[39m1\u001b[39m] \u001b[39m%\u001b[39m \u001b[39m2\u001b[39m\u001b[39m*\u001b[39m\u001b[39m*\u001b[39m\u001b[39m4\u001b[39m\n\u001b[1;32m     19\u001b[0m \u001b[39mif\u001b[39;00m flagByte \u001b[39m%\u001b[39m \u001b[39m2\u001b[39m\u001b[39m*\u001b[39m\u001b[39m*\u001b[39m\u001b[39m1\u001b[39m:\n",
      "\u001b[0;31mKeyboardInterrupt\u001b[0m: "
     ]
    }
   ],
   "source": [
    "export_Register('NEUNET Register/testBytes.dat')"
   ]
  },
  {
   "cell_type": "markdown",
   "metadata": {},
   "source": [
    "# Instrument time"
   ]
  },
  {
   "cell_type": "code",
   "execution_count": 89,
   "metadata": {},
   "outputs": [
    {
     "name": "stdout",
     "output_type": "stream",
     "text": [
      "492534739.475024\n",
      "1d:5b:7b:d3\n",
      "79\n"
     ]
    }
   ],
   "source": [
    "secondsSince2008 = (datetime.datetime.now() - datetime.datetime(2008,1,1,0,0)).total_seconds()\n",
    "print(secondsSince2008)\n",
    "secondsBytes = int(secondsSince2008).to_bytes(4,'big')\n",
    "print(secondsBytes.hex(':'))\n",
    "subsecondsBytes = int(secondsSince2008 % 1 * 2**8).to_bytes(1,'big')\n",
    "print(subsecondsBytes.hex())"
   ]
  },
  {
   "cell_type": "code",
   "execution_count": 110,
   "metadata": {},
   "outputs": [
    {
     "data": {
      "text/plain": [
       "'1d:5b:7b:d3:79:66'"
      ]
     },
     "execution_count": 110,
     "metadata": {},
     "output_type": "execute_result"
    }
   ],
   "source": [
    "(secondsBytes + subsecondsBytes + bytes([0x66])).hex(':')"
   ]
  },
  {
   "cell_type": "code",
   "execution_count": 63,
   "metadata": {},
   "outputs": [],
   "source": [
    "def instrument_time(input=None,mode='seconds'):\n",
    "    '''\n",
    "    Function to convert time from bytes to seconds and the reverse.\n",
    "    Time is defined as seconds since 2008\n",
    "\n",
    "    Parameters\n",
    "    ---------\n",
    "    input : 5 bytes representing time, optional\n",
    "        If input is None, the current time will be output as 5 bytes\n",
    "    mode : str\n",
    "        'seconds' : output time in seconds\n",
    "        'datetime' : output time in datetime\n",
    "\n",
    "    '''\n",
    "    if input is None:\n",
    "        secondsSince2008 = (datetime.datetime.now() - datetime.datetime(2008,1,1,0,0)).total_seconds()\n",
    "        # print(secondsSince2008)\n",
    "        secondsBytes = int(secondsSince2008).to_bytes(4,'big')\n",
    "        subsecondsBytes = int(secondsSince2008 % 1 * 2**8).to_bytes(1,'big')\n",
    "        # print(subsecondsBytes[0])\n",
    "        return secondsBytes + subsecondsBytes\n",
    "    else:\n",
    "        intSeconds = int.from_bytes(input[:4],'big')\n",
    "        intSubSeconds = input[-1]\n",
    "        secondsSince2008 = intSeconds + (intSubSeconds / 2**8)\n",
    "        if mode == 'seconds':\n",
    "            return secondsSince2008\n",
    "        elif mode == 'datetime':\n",
    "            return datetime.datetime(2008,1,1) + secondsSince2008\n"
   ]
  },
  {
   "cell_type": "code",
   "execution_count": 157,
   "metadata": {},
   "outputs": [
    {
     "name": "stdout",
     "output_type": "stream",
     "text": [
      "492536497.797884\n",
      "204\n"
     ]
    }
   ],
   "source": [
    "testTime = instrument_time()"
   ]
  },
  {
   "cell_type": "code",
   "execution_count": 145,
   "metadata": {},
   "outputs": [
    {
     "name": "stdout",
     "output_type": "stream",
     "text": [
      "1d:5b:7d:4a:99\n"
     ]
    },
    {
     "data": {
      "text/plain": [
       "153"
      ]
     },
     "execution_count": 145,
     "metadata": {},
     "output_type": "execute_result"
    }
   ],
   "source": [
    "print(testTime.hex(':'))\n",
    "int.from_bytes(testTime[0:4],'big')\n",
    "testTime[-1]"
   ]
  },
  {
   "cell_type": "code",
   "execution_count": 146,
   "metadata": {},
   "outputs": [
    {
     "data": {
      "text/plain": [
       "0.59765625"
      ]
     },
     "execution_count": 146,
     "metadata": {},
     "output_type": "execute_result"
    }
   ],
   "source": [
    "153 / (2**8)"
   ]
  },
  {
   "cell_type": "code",
   "execution_count": 153,
   "metadata": {},
   "outputs": [],
   "source": [
    "import SeanFunctions as sf"
   ]
  },
  {
   "cell_type": "code",
   "execution_count": 155,
   "metadata": {},
   "outputs": [
    {
     "name": "stdout",
     "output_type": "stream",
     "text": [
      "\u001b[0;31mSignature:\u001b[0m \u001b[0msf\u001b[0m\u001b[0;34m.\u001b[0m\u001b[0mmath\u001b[0m\u001b[0;34m.\u001b[0m\u001b[0mfourierbesseltransform\u001b[0m\u001b[0;34m(\u001b[0m\u001b[0mq\u001b[0m\u001b[0;34m,\u001b[0m \u001b[0mint1\u001b[0m\u001b[0;34m,\u001b[0m \u001b[0munpack\u001b[0m\u001b[0;34m=\u001b[0m\u001b[0;32mNone\u001b[0m\u001b[0;34m)\u001b[0m\u001b[0;34m\u001b[0m\u001b[0;34m\u001b[0m\u001b[0m\n",
      "\u001b[0;31mDocstring:\u001b[0m\n",
      "Discrete fourier bessel transform for conversion between S(Q) and g(r)\n",
      "\n",
      "Parameters\n",
      "--------\n",
      "q : array_like\n",
      "    Input array of Q (or r) values\n",
      "int1 : array_like\n",
      "    Input array of the structure factor S values (or PDF values)\n",
      "unpack : bool, optional\n",
      "    If unpack is True, the result will be output as a tuple to \n",
      "    more easily define separate variables from the result\n",
      "\n",
      "Returns \n",
      "--------\n",
      "r : ndarray\n",
      "    array of the real space distance (or Q) values.\n",
      "ft : ndarray\n",
      "    fourier transform result. Returns the PDF (or S) values.\n",
      "\u001b[0;31mFile:\u001b[0m      ~/mambaforge/lib/python3.11/site-packages/SeanFunctions/math.py\n",
      "\u001b[0;31mType:\u001b[0m      function"
     ]
    }
   ],
   "source": [
    "sf.math.fourierbesseltransform?"
   ]
  },
  {
   "cell_type": "code",
   "execution_count": 159,
   "metadata": {},
   "outputs": [
    {
     "data": {
      "text/plain": [
       "492536497.796875"
      ]
     },
     "execution_count": 159,
     "metadata": {},
     "output_type": "execute_result"
    }
   ],
   "source": [
    "instrument_time(testTime)"
   ]
  },
  {
   "cell_type": "code",
   "execution_count": null,
   "metadata": {},
   "outputs": [],
   "source": []
  }
 ],
 "metadata": {
  "kernelspec": {
   "display_name": "Python 3 (base)",
   "language": "python",
   "name": "base"
  },
  "language_info": {
   "codemirror_mode": {
    "name": "ipython",
    "version": 3
   },
   "file_extension": ".py",
   "mimetype": "text/x-python",
   "name": "python",
   "nbconvert_exporter": "python",
   "pygments_lexer": "ipython3",
   "version": "3.11.4"
  },
  "orig_nbformat": 4
 },
 "nbformat": 4,
 "nbformat_minor": 2
}
