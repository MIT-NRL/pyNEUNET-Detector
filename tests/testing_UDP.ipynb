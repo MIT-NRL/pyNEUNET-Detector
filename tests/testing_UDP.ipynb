{
 "cells": [
  {
   "cell_type": "markdown",
   "metadata": {},
   "source": [
    "# Imports"
   ]
  },
  {
   "cell_type": "code",
   "execution_count": 1,
   "metadata": {},
   "outputs": [],
   "source": [
    "import socket\n",
    "import time\n",
    "import datetime\n",
    "import numpy as np"
   ]
  },
  {
   "cell_type": "markdown",
   "metadata": {},
   "source": [
    "# UDP Testing"
   ]
  },
  {
   "cell_type": "code",
   "execution_count": 2,
   "metadata": {},
   "outputs": [],
   "source": [
    "IP_ADDRESS = \"192.168.0.17\"\n",
    "TCP_Port = 23\n",
    "UDP_Port = 4660"
   ]
  },
  {
   "cell_type": "code",
   "execution_count": 26,
   "metadata": {},
   "outputs": [],
   "source": [
    "sock = socket.socket(socket.AF_INET,socket.SOCK_DGRAM)"
   ]
  },
  {
   "cell_type": "code",
   "execution_count": 141,
   "metadata": {},
   "outputs": [
    {
     "name": "stdout",
     "output_type": "stream",
     "text": [
      "bytearray(b'\\xff\\xc0\\xaa\\x01\\x00\\x00\\x01\\x89')\n"
     ]
    }
   ],
   "source": [
    "address = 0x189\n",
    "readBytes = bytearray([0xFF,0xc0,0xaa,0x01]) + address.to_bytes(4,'big')\n",
    "print(readBytes)"
   ]
  },
  {
   "cell_type": "code",
   "execution_count": 126,
   "metadata": {},
   "outputs": [
    {
     "data": {
      "text/plain": [
       "'0b10000000'"
      ]
     },
     "execution_count": 126,
     "metadata": {},
     "output_type": "execute_result"
    }
   ],
   "source": [
    "bin(0x80)"
   ]
  },
  {
   "cell_type": "code",
   "execution_count": 143,
   "metadata": {},
   "outputs": [
    {
     "name": "stdout",
     "output_type": "stream",
     "text": [
      "bytearray(b'\\xff\\x80\\xaa\\x01\\x00\\x00\\x01\\x89@')\n"
     ]
    }
   ],
   "source": [
    "address = 0x189\n",
    "data = 0x40\n",
    "writeBytes = bytearray([0xFF,0x80,0xaa,0x01]) + address.to_bytes(4,'big') + bytes([data])\n",
    "print(writeBytes)"
   ]
  },
  {
   "cell_type": "code",
   "execution_count": 145,
   "metadata": {},
   "outputs": [
    {
     "name": "stdout",
     "output_type": "stream",
     "text": [
      "Header: b'\\xff\\xc8\\xaa\\x01\\x00\\x00\\x01\\x89'\n",
      "Data: b'@'\n"
     ]
    }
   ],
   "source": [
    "sock.sendto(readBytes,(IP_ADDRESS,UDP_Port))\n",
    "rec = sock.recv(1024)\n",
    "\n",
    "print(f\"Header: {rec[:8]}\\nData: {rec[8:]}\")"
   ]
  },
  {
   "cell_type": "code",
   "execution_count": 48,
   "metadata": {},
   "outputs": [
    {
     "data": {
      "text/plain": [
       "16"
      ]
     },
     "execution_count": 48,
     "metadata": {},
     "output_type": "execute_result"
    }
   ],
   "source": [
    "len(rec[0])"
   ]
  },
  {
   "cell_type": "code",
   "execution_count": 21,
   "metadata": {},
   "outputs": [
    {
     "data": {
      "text/plain": [
       "b'\\xff\\xc8\\x00\\xff\\x00\\x00\\x01\\xb5\\x00\\x90\\x00\\x00\\xff\\x00\\x00\\x00\\x00\\x00\\x00\\x00\\x00\\x00\\x00\\x00\\x00\\x00\\x00\\xea`\\x13\\x88+\\xf2\\x01\\xf4\\x13\\x87\\t\\x7f\\x7f\\x7f\\x7f\\x7f\\x05\\xb4\\x124\\x00\\x00\\x00\\x00\\x00\\x00\\x00\\x00\\x00\\x00\\x03\\xe8\\xea`\\x13\\x88+\\xf2\\x01\\xf4\\x01\\xf4\\xc0\\xa8\\x00\\x11\\x00\\x17\\x05\\xb4\\x124\\x00\\x00\\x00\\x00\\x00\\x00\\x00\\x00\\x00\\x00\\x03\\xe8\\xea`\\x13\\x88+\\xf2\\x01\\xf4\\x01\\xf4\\xc0\\xa8\\x00\\x11\\x00\\x17\\x05\\xb4\\x124\\x00\\x00\\x00\\x00\\x00\\x00\\x00\\x00\\x00\\x00\\x03\\xe8\\xea`\\x13\\x88+\\xf2\\x01\\xf4\\x01\\xf4\\xc0\\xa8\\x00\\x11\\x00\\x17\\x05\\xb4\\x124\\x00\\x00\\x00\\x00\\x00\\x00\\x00\\x00\\x00\\x00\\x03\\xe8\\xea`\\x13\\x88+\\xf2\\x01\\xf4\\x01\\xf4\\xc0\\xa8\\x00\\x11\\x00\\x17\\x05\\xb4\\x124\\x00\\x00\\x00\\x00\\x00\\x00\\x00\\x00\\x00\\x00\\x03\\xe8\\xea`\\x13\\x88+\\xf2\\x01\\xf4\\x01\\xf4\\xc0\\xa8\\x00\\x11\\x00\\x17\\x05\\xb4\\x124\\x00\\x00\\x00\\x00\\x00\\x00\\x00\\x00\\x00\\x00\\x03\\xe8\\xea`\\x13\\x88+\\xf2\\x01\\xf4\\x01\\xf4\\xc0\\xa8\\x00\\x11\\x00\\x17\\x05\\xb4\\x124\\x00\\x00\\x00\\x00\\x00\\x00\\x00\\x00\\x00\\x00\\x03\\xe8\\xea`\\x13\\x88+\\xf2\\x01\\xf4\\x01\\xf4\\xc0\\xa8'"
      ]
     },
     "execution_count": 21,
     "metadata": {},
     "output_type": "execute_result"
    }
   ],
   "source": [
    "rec[0]"
   ]
  },
  {
   "cell_type": "code",
   "execution_count": 12,
   "metadata": {},
   "outputs": [
    {
     "data": {
      "text/plain": [
       "'0b1000'"
      ]
     },
     "execution_count": 12,
     "metadata": {},
     "output_type": "execute_result"
    }
   ],
   "source": [
    "bin(0x8)"
   ]
  },
  {
   "cell_type": "code",
   "execution_count": 2,
   "metadata": {},
   "outputs": [
    {
     "data": {
      "text/plain": [
       "1"
      ]
     },
     "execution_count": 2,
     "metadata": {},
     "output_type": "execute_result"
    }
   ],
   "source": [
    "0x01"
   ]
  },
  {
   "cell_type": "code",
   "execution_count": 171,
   "metadata": {},
   "outputs": [
    {
     "data": {
      "text/plain": [
       "'ff:24:1b'"
      ]
     },
     "execution_count": 171,
     "metadata": {},
     "output_type": "execute_result"
    }
   ],
   "source": [
    "(bytes([0xff,0x24]) + bytes([0x1b])).hex(':')"
   ]
  },
  {
   "cell_type": "code",
   "execution_count": 173,
   "metadata": {},
   "outputs": [
    {
     "data": {
      "text/plain": [
       "False"
      ]
     },
     "execution_count": 173,
     "metadata": {},
     "output_type": "execute_result"
    }
   ],
   "source": [
    "test = 1\n",
    "isinstance(test,list)"
   ]
  },
  {
   "cell_type": "code",
   "execution_count": 53,
   "metadata": {},
   "outputs": [
    {
     "name": "stdout",
     "output_type": "stream",
     "text": [
      "bytearray(b'\\xff@\\x804')\n"
     ]
    }
   ],
   "source": [
    "send = bytearray([0xff,0x40,0x80]) + bytearray([0x34])\n",
    "print(send)"
   ]
  },
  {
   "cell_type": "code",
   "execution_count": 61,
   "metadata": {},
   "outputs": [
    {
     "data": {
      "text/plain": [
       "b'\\x00'"
      ]
     },
     "execution_count": 61,
     "metadata": {},
     "output_type": "execute_result"
    }
   ],
   "source": [
    "bytes([0x0])"
   ]
  },
  {
   "cell_type": "code",
   "execution_count": 56,
   "metadata": {},
   "outputs": [
    {
     "data": {
      "text/plain": [
       "'0x80'"
      ]
     },
     "execution_count": 56,
     "metadata": {},
     "output_type": "execute_result"
    }
   ],
   "source": [
    "hex(send[2])"
   ]
  },
  {
   "cell_type": "code",
   "execution_count": 29,
   "metadata": {},
   "outputs": [],
   "source": [
    "def register_readwrite(IP='192.168.0.17',\n",
    "                  port=4660,ID=None,length=1,address=0x80,data=None,printOutput=False):\n",
    "        '''\n",
    "        Reads/writes to the register of the NEUNET board using UDP protocol.\n",
    "        '''\n",
    "        modeRead,modeWrite = 0xc0, 0x80\n",
    "        if ID is None:\n",
    "                ID = np.random.randint(0,255)\n",
    "        sendBytes = bytearray([0xff,0x00,ID,length]) + address.to_bytes(4,'big')\n",
    "        if data is not None:\n",
    "                if not isinstance(data,(list,bytes,bytearray)):\n",
    "                        data = [data]\n",
    "                sendBytes += bytearray(data)\n",
    "                sendBytes[1] = modeWrite\n",
    "                sendBytes[3] = len(data) #Make the length match sent byte length automatically\n",
    "        else:\n",
    "                sendBytes[1] = modeRead\n",
    "                \n",
    "        with socket.socket(socket.AF_INET,socket.SOCK_DGRAM) as sockUDP:\n",
    "                sockUDP.settimeout(1)\n",
    "                sockUDP.sendto(sendBytes,(IP,port))\n",
    "                recvData = sockUDP.recv(1024)\n",
    "        flagByte = recvData[1] % 2**4\n",
    "        if flagByte % 2**1:\n",
    "                raise ConnectionRefusedError('Bus error! Check the format of the sent packet.',\n",
    "                                             f\"Send: {sendBytes.hex(':')}\\n\",\n",
    "                                             f\"Header : {recvData[:8].hex(':')}\\n\",\n",
    "                                             f\"Data : {recvData[8:].hex(':')}\"\n",
    "                                             )        \n",
    "        if printOutput:\n",
    "                print(f\"Send: {sendBytes.hex(':')}\\n\",\n",
    "                      f\"Header: {recvData[:8].hex(':')}\\n\",\n",
    "                      f\"Data: {recvData[8:].hex(':')}\")\n",
    "        return recvData"
   ]
  },
  {
   "cell_type": "code",
   "execution_count": 57,
   "metadata": {},
   "outputs": [
    {
     "data": {
      "text/plain": [
       "b'\\x1d[\\xa0&p'"
      ]
     },
     "execution_count": 57,
     "metadata": {},
     "output_type": "execute_result"
    }
   ],
   "source": [
    "instrument_time()"
   ]
  },
  {
   "cell_type": "code",
   "execution_count": 68,
   "metadata": {},
   "outputs": [
    {
     "data": {
      "text/plain": [
       "'0x80'"
      ]
     },
     "execution_count": 68,
     "metadata": {},
     "output_type": "execute_result"
    }
   ],
   "source": [
    "hex(0b10000000)"
   ]
  },
  {
   "cell_type": "code",
   "execution_count": 90,
   "metadata": {},
   "outputs": [],
   "source": [
    "labView_zeroBytes = bytes.fromhex('0000 0000 0000 0000 0000 0000 0000 0000 0000 0000 0000 0000 0000 0000 0000 0000 0000 0000 0000 0000 0000 0000 0000 0000 0000 0000 0000 0000 0000 0000 0000 0000 0000 0000 0000 0000 0000 0000 0000 0000 0000 0000 0000 0000 0000 0000 0000 0000 0000 0000 0000 0000 0000 0000 0000 0000 0000 0000 0000 0000 0000 0000 0000 0000')"
   ]
  },
  {
   "cell_type": "code",
   "execution_count": 73,
   "metadata": {},
   "outputs": [],
   "source": [
    "labView_startup_bytes= bytes.fromhex('0080 0080 0080 0080 0000 0000 0000 2200 0C49 6E8E 05FC 3600 0000 0000 0000 0000 0000 0000 0000 0000 EA60 1388 2BF2 01F4')"
   ]
  },
  {
   "cell_type": "code",
   "execution_count": 75,
   "metadata": {},
   "outputs": [
    {
     "data": {
      "text/plain": [
       "'00:80:00:80:00:80:00:80:00:00:00:00:00:00:22:00:0c:49:6e:8e:05:fc:36:00:00:00:00:00:00:00:00:00:00:00:00:00:00:00:00:00:ea:60:13:88:2b:f2:01:f4'"
      ]
     },
     "execution_count": 75,
     "metadata": {},
     "output_type": "execute_result"
    }
   ],
   "source": [
    "labView_startup_bytes.hex(':')"
   ]
  },
  {
   "cell_type": "code",
   "execution_count": 87,
   "metadata": {},
   "outputs": [
    {
     "data": {
      "text/plain": [
       "432"
      ]
     },
     "execution_count": 87,
     "metadata": {},
     "output_type": "execute_result"
    }
   ],
   "source": [
    "0x1b0"
   ]
  },
  {
   "cell_type": "code",
   "execution_count": 83,
   "metadata": {},
   "outputs": [
    {
     "data": {
      "text/plain": [
       "['0x180 = 00:80:00:80:00:80:00:80',\n",
       " '0x188 = 00:00:00',\n",
       " '0x18b = 00:00:00:22:00',\n",
       " '0x190 = 0c:49:6e:8e:05:fc:36',\n",
       " '0x198 = 00:00:00:00:00:00:00:00',\n",
       " '0x1b0 = ']"
      ]
     },
     "execution_count": 83,
     "metadata": {},
     "output_type": "execute_result"
    }
   ],
   "source": [
    "# These are the bytes that Labview sends to startup (maybe not all correct)\n",
    "udpBytes = []\n",
    "for address,length in zip([0x180,0x188,0x18b,0x190,0x198,0x1b0],[8,3,5,7,8,6]):\n",
    "    # print(address.to_bytes(2,'big'),(address+length).to_bytes(2,'big'))\n",
    "    # print(address.to_bytes(2,'big'))\n",
    "    udpBytes.append(str(hex(address))+' = '+labView_startup_bytes[address-0x180:(address-0x180)+length].hex(':'))\n",
    "udpBytes"
   ]
  },
  {
   "cell_type": "code",
   "execution_count": 237,
   "metadata": {},
   "outputs": [],
   "source": [
    "def startupUPD():\n",
    "    #Set time to 32-bit mode\n",
    "    responseByte = register_readwrite(address=0x18a,data=0x80)\n",
    "\n",
    "    #First send the computer time to the instrument\n",
    "    instrument_time(register_readwrite(address=0x190,length=5)[8:],mode='datetime')\n",
    "    responseByte = register_readwrite(address=0x190,data=instrument_time()+bytes([0x00,0x00]),printOutput=True)\n",
    "    instrument_time(register_readwrite(address=0x190,length=5)[8:],mode='datetime')\n",
    "\n",
    "    #Set event memory read mode\n",
    "    responseByte = register_readwrite(address=0x186,data=bytes(2))\n",
    "\n",
    "    #Set one-way mode\n",
    "    responseByte = register_readwrite(address=0x1b5,data=0x80)\n",
    "\n",
    "    # #FIFO buffer cleared\n",
    "    # responseByte = register_readwrite(address=0x189,data=0x60)"
   ]
  },
  {
   "cell_type": "code",
   "execution_count": 238,
   "metadata": {},
   "outputs": [
    {
     "name": "stdout",
     "output_type": "stream",
     "text": [
      "Send: ff:80:80:07:00:00:01:90:1d:60:97:5d:ef:00:00\n",
      " Header: ff:88:80:07:00:00:01:90\n",
      " Data: 1d:60:97:5d:ef:00:00\n"
     ]
    }
   ],
   "source": [
    "startupUPD()"
   ]
  },
  {
   "cell_type": "code",
   "execution_count": 225,
   "metadata": {},
   "outputs": [
    {
     "data": {
      "text/plain": [
       "b'\\x1d`\\x96\\x8f\\xce\\x00\\x00'"
      ]
     },
     "execution_count": 225,
     "metadata": {},
     "output_type": "execute_result"
    }
   ],
   "source": [
    "instrument_time() + bytes([0x00,0x00])"
   ]
  },
  {
   "cell_type": "code",
   "execution_count": 236,
   "metadata": {},
   "outputs": [
    {
     "data": {
      "text/plain": [
       "datetime.timedelta(microseconds=1204)"
      ]
     },
     "execution_count": 236,
     "metadata": {},
     "output_type": "execute_result"
    }
   ],
   "source": [
    "# register_readwrite(address=0x18a,data=0x80)\n",
    "# register_readwrite(address=0x190,data=instrument_time()+ bytes([0x00,0x00]),printOutput=True)\n",
    "datetime.datetime.now() - instrument_time(register_readwrite(address=0x190,length=5)[8:],mode='datetime')\n"
   ]
  },
  {
   "cell_type": "code",
   "execution_count": 222,
   "metadata": {},
   "outputs": [
    {
     "data": {
      "text/plain": [
       "b'\\xff\\x88\\xcd\\x08\\x00\\x00\\x01\\x98\\xff\\xff\\xff\\xff\\xff\\xff\\xff\\xff'"
      ]
     },
     "execution_count": 222,
     "metadata": {},
     "output_type": "execute_result"
    }
   ],
   "source": [
    "register_readwrite(address=0x198,data=bytes([0xff for x in range(8)]))"
   ]
  },
  {
   "cell_type": "code",
   "execution_count": 223,
   "metadata": {},
   "outputs": [
    {
     "name": "stdout",
     "output_type": "stream",
     "text": [
      "Send: ff:c0:2c:08:00:00:01:98\n",
      " Header: ff:c8:2c:08:00:00:01:98\n",
      " Data: ff:ff:ff:ff:ff:ff:ff:ff\n"
     ]
    },
    {
     "data": {
      "text/plain": [
       "b'\\xff\\xc8,\\x08\\x00\\x00\\x01\\x98\\xff\\xff\\xff\\xff\\xff\\xff\\xff\\xff'"
      ]
     },
     "execution_count": 223,
     "metadata": {},
     "output_type": "execute_result"
    }
   ],
   "source": [
    "register_readwrite(address=0x198,length=8,printOutput=True)"
   ]
  },
  {
   "cell_type": "code",
   "execution_count": 139,
   "metadata": {},
   "outputs": [
    {
     "name": "stdout",
     "output_type": "stream",
     "text": [
      "Send: ff:c0:98:01:00:00:01:87\n",
      " Header: ff:c8:98:01:00:00:01:87\n",
      " Data: 80\n"
     ]
    },
    {
     "data": {
      "text/plain": [
       "b'\\xff\\xc8\\x98\\x01\\x00\\x00\\x01\\x87\\x80'"
      ]
     },
     "execution_count": 139,
     "metadata": {},
     "output_type": "execute_result"
    }
   ],
   "source": [
    "register_readwrite(address=0x187,length=1,printOutput=True)"
   ]
  },
  {
   "cell_type": "code",
   "execution_count": 197,
   "metadata": {},
   "outputs": [
    {
     "data": {
      "text/plain": [
       "datetime.datetime(2008, 1, 1, 0, 45, 20, 925781)"
      ]
     },
     "execution_count": 197,
     "metadata": {},
     "output_type": "execute_result"
    }
   ],
   "source": [
    "instrument_time(register_readwrite(address=0x190,length=5)[8:],mode='datetime')"
   ]
  },
  {
   "cell_type": "code",
   "execution_count": 195,
   "metadata": {},
   "outputs": [
    {
     "name": "stdout",
     "output_type": "stream",
     "text": [
      "Send: ff:80:ed:05:00:00:01:90:1d:60:94:66:d0\n",
      " Header: ff:88:ed:05:00:00:01:90\n",
      " Data: 1d:60:94:66:d0\n"
     ]
    },
    {
     "data": {
      "text/plain": [
       "b'\\xff\\x88\\xed\\x05\\x00\\x00\\x01\\x90\\x1d`\\x94f\\xd0'"
      ]
     },
     "execution_count": 195,
     "metadata": {},
     "output_type": "execute_result"
    }
   ],
   "source": [
    "register_readwrite(address=0x190,data=instrument_time(),printOutput=True)"
   ]
  },
  {
   "cell_type": "code",
   "execution_count": 57,
   "metadata": {},
   "outputs": [
    {
     "data": {
      "text/plain": [
       "False"
      ]
     },
     "execution_count": 57,
     "metadata": {},
     "output_type": "execute_result"
    }
   ],
   "source": [
    "isinstance(instrument_time(),bytearray)"
   ]
  },
  {
   "cell_type": "code",
   "execution_count": 98,
   "metadata": {},
   "outputs": [
    {
     "name": "stdout",
     "output_type": "stream",
     "text": [
      "Send: ff:80:58:01:00:00:01:b5:80\n",
      " Header: ff:88:58:01:00:00:01:b5\n",
      " Data: 80\n"
     ]
    }
   ],
   "source": [
    "responseByte = register_readwrite(address=0x1b5,data=0x80,printOutput=True)"
   ]
  },
  {
   "cell_type": "code",
   "execution_count": 97,
   "metadata": {},
   "outputs": [
    {
     "data": {
      "text/plain": [
       "True"
      ]
     },
     "execution_count": 97,
     "metadata": {},
     "output_type": "execute_result"
    }
   ],
   "source": [
    "labView_zeroBytes == bytes(128)"
   ]
  },
  {
   "cell_type": "code",
   "execution_count": 143,
   "metadata": {},
   "outputs": [
    {
     "data": {
      "text/plain": [
       "'0x40'"
      ]
     },
     "execution_count": 143,
     "metadata": {},
     "output_type": "execute_result"
    }
   ],
   "source": [
    "hex(0b01000000)"
   ]
  },
  {
   "cell_type": "code",
   "execution_count": 105,
   "metadata": {},
   "outputs": [
    {
     "data": {
      "text/plain": [
       "'0000002200'"
      ]
     },
     "execution_count": 105,
     "metadata": {},
     "output_type": "execute_result"
    }
   ],
   "source": [
    "bytes.fromhex('00:00:00:22:00'.replace(':','')).hex()"
   ]
  },
  {
   "cell_type": "code",
   "execution_count": 207,
   "metadata": {},
   "outputs": [],
   "source": [
    "def startupUPD_all():\n",
    "    #Set to all zeros\n",
    "    responseByte =  register_readwrite(address=0x0,data=bytes(128))\n",
    "\n",
    "    #Register usage control\n",
    "    responseByte = register_readwrite(address=0x180,data=[0x00,0x80,0x00,0x80,0x00,0x80,0x00,0x80])\n",
    "\n",
    "    #Set time to 32 bit and FIFO buffer clear\n",
    "    responseByte = register_readwrite(address=0x188,data=[0x00,0xc0,0x40])\n",
    "\n",
    "    #Pulse ID counter\n",
    "    responseByte = register_readwrite(address=0x18b,data=[0x00,0x00,0x00,0x22,0x00])\n",
    "\n",
    "    #First send the computer time to the instrument\n",
    "    instrument_time(register_readwrite(address=0x190,length=5)[8:],mode='datetime')\n",
    "    responseByte = register_readwrite(address=0x190,data=instrument_time())\n",
    "    instrument_time(register_readwrite(address=0x190,length=5)[8:],mode='datetime')\n",
    "\n",
    "    #Clear LLD and TOF\n",
    "    responseByte = register_readwrite(address=0x198,data=bytes(8))\n",
    "\n",
    "    #Set one-way mode\n",
    "    responseByte = register_readwrite(address=0x1b0,data=[0x03,0x20,0x00,0x80,0x8a,0x80])"
   ]
  },
  {
   "cell_type": "code",
   "execution_count": 208,
   "metadata": {},
   "outputs": [],
   "source": [
    "startupUPD_all()"
   ]
  },
  {
   "cell_type": "code",
   "execution_count": 60,
   "metadata": {},
   "outputs": [
    {
     "data": {
      "text/plain": [
       "'0x60'"
      ]
     },
     "execution_count": 60,
     "metadata": {},
     "output_type": "execute_result"
    }
   ],
   "source": [
    "hex(0b1100000)"
   ]
  },
  {
   "cell_type": "code",
   "execution_count": 3,
   "metadata": {},
   "outputs": [
    {
     "data": {
      "text/plain": [
       "'0b1000000'"
      ]
     },
     "execution_count": 3,
     "metadata": {},
     "output_type": "execute_result"
    }
   ],
   "source": [
    "bin(0x40)"
   ]
  },
  {
   "cell_type": "code",
   "execution_count": 11,
   "metadata": {},
   "outputs": [
    {
     "name": "stdout",
     "output_type": "stream",
     "text": [
      "Send: ff:c0:99:06:00:00:01:b0\n",
      " Header: ff:c8:99:06:00:00:01:b0\n",
      " Data: 03:20:00:80:8a:80\n"
     ]
    },
    {
     "data": {
      "text/plain": [
       "b'\\xff\\xc8\\x99\\x06\\x00\\x00\\x01\\xb0\\x03 \\x00\\x80\\x8a\\x80'"
      ]
     },
     "execution_count": 11,
     "metadata": {},
     "output_type": "execute_result"
    }
   ],
   "source": [
    "register_readwrite(address=0x1b0,length=6,printOutput=True)"
   ]
  },
  {
   "cell_type": "code",
   "execution_count": 221,
   "metadata": {},
   "outputs": [
    {
     "data": {
      "text/plain": [
       "'0b1000'"
      ]
     },
     "execution_count": 221,
     "metadata": {},
     "output_type": "execute_result"
    }
   ],
   "source": [
    "output = b'\\xff\\xc8S\\x06\\x00\\x00\\x01\\xb0\\x03 \\x00\\x80\\x00\\x00'\n",
    "bin(output[1] % 2**4)"
   ]
  },
  {
   "cell_type": "code",
   "execution_count": 8,
   "metadata": {},
   "outputs": [
    {
     "name": "stdout",
     "output_type": "stream",
     "text": [
      "Send: ff:c0:78:01:00:00:01:b3\n",
      " Header : ff:c8:78:01:00:00:01:b3\n",
      " Data : 80\n"
     ]
    },
    {
     "data": {
      "text/plain": [
       "b'\\xff\\xc8x\\x01\\x00\\x00\\x01\\xb3\\x80'"
      ]
     },
     "execution_count": 8,
     "metadata": {},
     "output_type": "execute_result"
    }
   ],
   "source": [
    "register_readwrite(address=0x1b3,printOutput=True)"
   ]
  },
  {
   "cell_type": "code",
   "execution_count": 94,
   "metadata": {},
   "outputs": [
    {
     "name": "stdout",
     "output_type": "stream",
     "text": [
      "Send: ff:c0:88:1b:00:00:00:80\n",
      " Header : ff:c8:88:1b:00:00:00:80\n",
      " Data : 00:00:00:00:00:00:03:e8:ea:60:13:88:2b:f2:01:f4:01:f4:c0:a8:00:11:00:17:05:b4:12\n"
     ]
    }
   ],
   "source": [
    "readOnlyBytesStartup = register_readwrite(length=(0x9b-0x80),address=0x80).hex(':')\n",
    "with open('readOnlyBytes.dat','w') as openFile:\n",
    "    openFile.write(readOnlyBytesStartup)"
   ]
  },
  {
   "cell_type": "code",
   "execution_count": 131,
   "metadata": {},
   "outputs": [
    {
     "data": {
      "text/plain": [
       "datetime.datetime(2144, 2, 7, 6, 28, 15, 70312)"
      ]
     },
     "execution_count": 131,
     "metadata": {},
     "output_type": "execute_result"
    }
   ],
   "source": [
    "instrument_time(bytes([0xff,0xff,0xff,0xff,0x12]),mode='datetime')"
   ]
  },
  {
   "cell_type": "code",
   "execution_count": 4,
   "metadata": {},
   "outputs": [],
   "source": [
    "def read_full_register(outputFileStr=None,printOutput=True):\n",
    "    '''\n",
    "    Reads the entire writable section of the NEUNET register.\n",
    "    Ranges from address 0x180 to 0x1b5\n",
    "    '''\n",
    "    udpBytes = []\n",
    "    udpBytes.append('        '+'|'.join(['+'+str(x) for x in range(8)]))\n",
    "    for address,length in zip([0x180,0x188,0x18b,0x190,0x198,0x1b0],[8,3,5,7,8,6]):\n",
    "        udpBytes.append(str(hex(address))+' = '+register_readwrite(length=length,address=address)[8:].hex(':'))\n",
    "    if printOutput:\n",
    "        print('\\n'.join(udpBytes))\n",
    "    if outputFileStr is not None:\n",
    "        with open(outputFileStr,'w') as openFile:\n",
    "            openFile.writelines('\\n'.join(udpBytes))"
   ]
  },
  {
   "cell_type": "code",
   "execution_count": 265,
   "metadata": {},
   "outputs": [
    {
     "data": {
      "text/plain": [
       "b'\\xff\\x88Q\\x01\\x00\\x00\\x01\\x89@'"
      ]
     },
     "execution_count": 265,
     "metadata": {},
     "output_type": "execute_result"
    }
   ],
   "source": [
    "register_readwrite(address=0x189,data=0x40)"
   ]
  },
  {
   "cell_type": "code",
   "execution_count": 269,
   "metadata": {},
   "outputs": [
    {
     "name": "stdout",
     "output_type": "stream",
     "text": [
      "        +0|+1|+2|+3|+4|+5|+6|+7\n",
      "0x180 = 00:80:00:80:00:80:00:00\n",
      "0x188 = 00:40:80\n",
      "0x18b = 00:00:00:54:f9\n",
      "0x190 = 1d:60:97:ce:b4:8b:68\n",
      "0x198 = ff:ff:ff:ff:ff:ff:ff:ff\n",
      "0x1b0 = 03:20:00:80:8a:80\n"
     ]
    }
   ],
   "source": [
    "# fileName = 'NEUNET Register 2/startupRegister.dat'\n",
    "fileName=None\n",
    "read_full_register(fileName)"
   ]
  },
  {
   "cell_type": "markdown",
   "metadata": {},
   "source": [
    "# Instrument time"
   ]
  },
  {
   "cell_type": "code",
   "execution_count": 89,
   "metadata": {},
   "outputs": [
    {
     "name": "stdout",
     "output_type": "stream",
     "text": [
      "492534739.475024\n",
      "1d:5b:7b:d3\n",
      "79\n"
     ]
    }
   ],
   "source": [
    "secondsSince2008 = (datetime.datetime.now() - datetime.datetime(2008,1,1,0,0)).total_seconds()\n",
    "print(secondsSince2008)\n",
    "secondsBytes = int(secondsSince2008).to_bytes(4,'big')\n",
    "print(secondsBytes.hex(':'))\n",
    "subsecondsBytes = int(secondsSince2008 % 1 * 2**8).to_bytes(1,'big')\n",
    "print(subsecondsBytes.hex())"
   ]
  },
  {
   "cell_type": "code",
   "execution_count": 110,
   "metadata": {},
   "outputs": [
    {
     "data": {
      "text/plain": [
       "'1d:5b:7b:d3:79:66'"
      ]
     },
     "execution_count": 110,
     "metadata": {},
     "output_type": "execute_result"
    }
   ],
   "source": [
    "(secondsBytes + subsecondsBytes + bytes([0x66])).hex(':')"
   ]
  },
  {
   "cell_type": "code",
   "execution_count": 127,
   "metadata": {},
   "outputs": [
    {
     "data": {
      "text/plain": [
       "datetime.datetime(2009, 3, 27, 9, 23, 50)"
      ]
     },
     "execution_count": 127,
     "metadata": {},
     "output_type": "execute_result"
    }
   ],
   "source": [
    "datetime.datetime(2008,1,1) + datetime.timedelta(seconds=39000230)"
   ]
  },
  {
   "cell_type": "code",
   "execution_count": 17,
   "metadata": {},
   "outputs": [],
   "source": [
    "def instrument_time(input=None,mode='seconds'):\n",
    "    '''\n",
    "    Function to convert time from bytes to seconds and the reverse.\n",
    "    Time is defined as seconds since 2008\n",
    "\n",
    "    Parameters\n",
    "    ---------\n",
    "    input : 5 bytes representing time, optional\n",
    "        If input is None, the current time will be output as 5 bytes\n",
    "    mode : str\n",
    "        'seconds' : output time in seconds\n",
    "        'datetime' : output time in datetime\n",
    "\n",
    "    '''\n",
    "    if input is None:\n",
    "        secondsSince2008 = (datetime.datetime.now() - datetime.datetime(2008,1,1,0,0)).total_seconds()\n",
    "        # print(secondsSince2008)\n",
    "        secondsBytes = int(secondsSince2008).to_bytes(4,'big')\n",
    "        subsecondsBytes = int(secondsSince2008 % 1 * 2**8).to_bytes(1,'big')\n",
    "        # print(subsecondsBytes[0])\n",
    "        return secondsBytes + subsecondsBytes\n",
    "    else:\n",
    "        intSeconds = int.from_bytes(input[:4],'big')\n",
    "        intSubSeconds = input[-1]\n",
    "        secondsSince2008 = intSeconds + (intSubSeconds / 2**8)\n",
    "        if mode == 'seconds':\n",
    "            return secondsSince2008\n",
    "        elif mode == 'datetime':\n",
    "            return datetime.datetime(2008,1,1) + datetime.timedelta(seconds=secondsSince2008)\n"
   ]
  },
  {
   "cell_type": "code",
   "execution_count": 157,
   "metadata": {},
   "outputs": [
    {
     "name": "stdout",
     "output_type": "stream",
     "text": [
      "492536497.797884\n",
      "204\n"
     ]
    }
   ],
   "source": [
    "testTime = instrument_time()"
   ]
  },
  {
   "cell_type": "code",
   "execution_count": 145,
   "metadata": {},
   "outputs": [
    {
     "name": "stdout",
     "output_type": "stream",
     "text": [
      "1d:5b:7d:4a:99\n"
     ]
    },
    {
     "data": {
      "text/plain": [
       "153"
      ]
     },
     "execution_count": 145,
     "metadata": {},
     "output_type": "execute_result"
    }
   ],
   "source": [
    "print(testTime.hex(':'))\n",
    "int.from_bytes(testTime[0:4],'big')\n",
    "testTime[-1]"
   ]
  },
  {
   "cell_type": "code",
   "execution_count": 146,
   "metadata": {},
   "outputs": [
    {
     "data": {
      "text/plain": [
       "0.59765625"
      ]
     },
     "execution_count": 146,
     "metadata": {},
     "output_type": "execute_result"
    }
   ],
   "source": [
    "153 / (2**8)"
   ]
  },
  {
   "cell_type": "code",
   "execution_count": 153,
   "metadata": {},
   "outputs": [],
   "source": [
    "import SeanFunctions as sf"
   ]
  },
  {
   "cell_type": "code",
   "execution_count": 155,
   "metadata": {},
   "outputs": [
    {
     "name": "stdout",
     "output_type": "stream",
     "text": [
      "\u001b[0;31mSignature:\u001b[0m \u001b[0msf\u001b[0m\u001b[0;34m.\u001b[0m\u001b[0mmath\u001b[0m\u001b[0;34m.\u001b[0m\u001b[0mfourierbesseltransform\u001b[0m\u001b[0;34m(\u001b[0m\u001b[0mq\u001b[0m\u001b[0;34m,\u001b[0m \u001b[0mint1\u001b[0m\u001b[0;34m,\u001b[0m \u001b[0munpack\u001b[0m\u001b[0;34m=\u001b[0m\u001b[0;32mNone\u001b[0m\u001b[0;34m)\u001b[0m\u001b[0;34m\u001b[0m\u001b[0;34m\u001b[0m\u001b[0m\n",
      "\u001b[0;31mDocstring:\u001b[0m\n",
      "Discrete fourier bessel transform for conversion between S(Q) and g(r)\n",
      "\n",
      "Parameters\n",
      "--------\n",
      "q : array_like\n",
      "    Input array of Q (or r) values\n",
      "int1 : array_like\n",
      "    Input array of the structure factor S values (or PDF values)\n",
      "unpack : bool, optional\n",
      "    If unpack is True, the result will be output as a tuple to \n",
      "    more easily define separate variables from the result\n",
      "\n",
      "Returns \n",
      "--------\n",
      "r : ndarray\n",
      "    array of the real space distance (or Q) values.\n",
      "ft : ndarray\n",
      "    fourier transform result. Returns the PDF (or S) values.\n",
      "\u001b[0;31mFile:\u001b[0m      ~/mambaforge/lib/python3.11/site-packages/SeanFunctions/math.py\n",
      "\u001b[0;31mType:\u001b[0m      function"
     ]
    }
   ],
   "source": [
    "sf.math.fourierbesseltransform?"
   ]
  },
  {
   "cell_type": "code",
   "execution_count": 159,
   "metadata": {},
   "outputs": [
    {
     "data": {
      "text/plain": [
       "492536497.796875"
      ]
     },
     "execution_count": 159,
     "metadata": {},
     "output_type": "execute_result"
    }
   ],
   "source": [
    "instrument_time(testTime)"
   ]
  },
  {
   "cell_type": "code",
   "execution_count": 139,
   "metadata": {},
   "outputs": [
    {
     "data": {
      "text/plain": [
       "False"
      ]
     },
     "execution_count": 139,
     "metadata": {},
     "output_type": "execute_result"
    }
   ],
   "source": [
    "b'0x35' in [b'0x5f',b'0x34']"
   ]
  },
  {
   "cell_type": "code",
   "execution_count": 141,
   "metadata": {},
   "outputs": [
    {
     "data": {
      "text/plain": [
       "'0x40'"
      ]
     },
     "execution_count": 141,
     "metadata": {},
     "output_type": "execute_result"
    }
   ],
   "source": [
    "hex(0b01000000)"
   ]
  },
  {
   "cell_type": "code",
   "execution_count": 165,
   "metadata": {},
   "outputs": [
    {
     "data": {
      "text/plain": [
       "True"
      ]
     },
     "execution_count": 165,
     "metadata": {},
     "output_type": "execute_result"
    }
   ],
   "source": [
    "isinstance(bytearray([0x53]),(bytes,bytearray))"
   ]
  },
  {
   "cell_type": "code",
   "execution_count": 162,
   "metadata": {},
   "outputs": [
    {
     "data": {
      "text/plain": [
       "True"
      ]
     },
     "execution_count": 162,
     "metadata": {},
     "output_type": "execute_result"
    }
   ],
   "source": [
    "isinstance(54654,(int,float))"
   ]
  },
  {
   "cell_type": "code",
   "execution_count": 171,
   "metadata": {},
   "outputs": [
    {
     "name": "stdout",
     "output_type": "stream",
     "text": [
      "1199163600.0\n"
     ]
    }
   ],
   "source": [
    "print(datetime.datetime(2008,1,1).timestamp())"
   ]
  },
  {
   "cell_type": "code",
   "execution_count": null,
   "metadata": {},
   "outputs": [],
   "source": []
  }
 ],
 "metadata": {
  "kernelspec": {
   "display_name": "Python (base)",
   "language": "python",
   "name": "base"
  },
  "language_info": {
   "codemirror_mode": {
    "name": "ipython",
    "version": 3
   },
   "file_extension": ".py",
   "mimetype": "text/x-python",
   "name": "python",
   "nbconvert_exporter": "python",
   "pygments_lexer": "ipython3",
   "version": "3.9.12"
  },
  "orig_nbformat": 4
 },
 "nbformat": 4,
 "nbformat_minor": 2
}
