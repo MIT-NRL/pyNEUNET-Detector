{
 "cells": [
  {
   "cell_type": "markdown",
   "metadata": {},
   "source": [
    "# Imports"
   ]
  },
  {
   "cell_type": "code",
   "execution_count": 44,
   "metadata": {},
   "outputs": [],
   "source": [
    "import socket\n",
    "import numpy as np\n",
    "import datetime"
   ]
  },
  {
   "cell_type": "markdown",
   "metadata": {},
   "source": [
    "# TCP Tests"
   ]
  },
  {
   "cell_type": "code",
   "execution_count": 2,
   "metadata": {},
   "outputs": [],
   "source": [
    "IP_ADDRESS = \"192.168.0.17\"\n",
    "TCP_Port = 23\n",
    "UDP_Port = 4660"
   ]
  },
  {
   "cell_type": "code",
   "execution_count": 19,
   "metadata": {},
   "outputs": [
    {
     "name": "stdout",
     "output_type": "stream",
     "text": [
      "bytearray(b'\\xa3\\x00\\x00\\x00\\x00\\x00\\xff\\xff')\n"
     ]
    }
   ],
   "source": [
    "sendHandshake = bytearray([0xa3,0x00,0x00,0x00]) + 0xffff.to_bytes(4,'big')\n",
    "print(sendHandshake)"
   ]
  },
  {
   "cell_type": "code",
   "execution_count": 26,
   "metadata": {},
   "outputs": [
    {
     "name": "stdout",
     "output_type": "stream",
     "text": [
      "b'\\x00\\x00\\x00\\x00'\n"
     ]
    }
   ],
   "source": [
    "with socket.socket(socket.AF_INET,socket.SOCK_STREAM,0) as sock:\n",
    "    sock.settimeout(5)\n",
    "    sock.connect((IP_ADDRESS,TCP_Port))\n",
    "    sock.send(sendHandshake)\n",
    "    recData = sock.recv(1024)    \n",
    "    print(recData)\n",
    "    sock.close()"
   ]
  },
  {
   "cell_type": "code",
   "execution_count": 16,
   "metadata": {},
   "outputs": [
    {
     "ename": "timeout",
     "evalue": "timed out",
     "output_type": "error",
     "traceback": [
      "\u001b[1;31m---------------------------------------------------------------------------\u001b[0m",
      "\u001b[1;31mtimeout\u001b[0m                                   Traceback (most recent call last)",
      "\u001b[1;32mc:\\Users\\4DH4\\Documents\\Python Scripts\\pyNEUNET-Detector\\tests\\testing_TCP.ipynb Cell 5\u001b[0m in \u001b[0;36m<cell line: 1>\u001b[1;34m()\u001b[0m\n\u001b[0;32m      <a href='vscode-notebook-cell:/c%3A/Users/4DH4/Documents/Python%20Scripts/pyNEUNET-Detector/tests/testing_TCP.ipynb#W4sZmlsZQ%3D%3D?line=2'>3</a>\u001b[0m sock\u001b[39m.\u001b[39mconnect((IP_ADDRESS,TCP_Port))\n\u001b[0;32m      <a href='vscode-notebook-cell:/c%3A/Users/4DH4/Documents/Python%20Scripts/pyNEUNET-Detector/tests/testing_TCP.ipynb#W4sZmlsZQ%3D%3D?line=3'>4</a>\u001b[0m \u001b[39m# sock.send(sendHandshake)\u001b[39;00m\n\u001b[1;32m----> <a href='vscode-notebook-cell:/c%3A/Users/4DH4/Documents/Python%20Scripts/pyNEUNET-Detector/tests/testing_TCP.ipynb#W4sZmlsZQ%3D%3D?line=4'>5</a>\u001b[0m recData \u001b[39m=\u001b[39m sock\u001b[39m.\u001b[39;49mrecv(\u001b[39m1024\u001b[39;49m)    \n\u001b[0;32m      <a href='vscode-notebook-cell:/c%3A/Users/4DH4/Documents/Python%20Scripts/pyNEUNET-Detector/tests/testing_TCP.ipynb#W4sZmlsZQ%3D%3D?line=5'>6</a>\u001b[0m \u001b[39mprint\u001b[39m(recData)\n\u001b[0;32m      <a href='vscode-notebook-cell:/c%3A/Users/4DH4/Documents/Python%20Scripts/pyNEUNET-Detector/tests/testing_TCP.ipynb#W4sZmlsZQ%3D%3D?line=6'>7</a>\u001b[0m sock\u001b[39m.\u001b[39mclose()\n",
      "\u001b[1;31mtimeout\u001b[0m: timed out"
     ]
    }
   ],
   "source": [
    "with socket.socket(socket.AF_INET,socket.SOCK_STREAM,0) as sock:\n",
    "    sock.settimeout(5)\n",
    "    sock.connect((IP_ADDRESS,TCP_Port))\n",
    "    # sock.send(sendHandshake)\n",
    "    recData = sock.recv(1024)    \n",
    "    print(recData)\n",
    "    sock.close()"
   ]
  },
  {
   "cell_type": "markdown",
   "metadata": {},
   "source": [
    "# Test input data"
   ]
  },
  {
   "cell_type": "code",
   "execution_count": 79,
   "metadata": {},
   "outputs": [],
   "source": [
    "def instrument_time(input=None,mode='seconds'):\n",
    "    '''\n",
    "    Function to convert time from bytes to seconds and the reverse.\n",
    "    Time is defined as seconds since 2008 and stored in 5 bytes.\n",
    "    4 bytes for seconds and 1 byte for subsections\n",
    "\n",
    "    Parameters\n",
    "    ---------\n",
    "    input : Time input as 5 bytes, seconds, or datetime, optional\n",
    "        If input is None, the current time will be output as 5 bytes\n",
    "    mode : str\n",
    "        'seconds' : output time in seconds\n",
    "        'datetime' : output time in datetime\n",
    "\n",
    "    '''\n",
    "    if input is None:\n",
    "        secondsSince2008 = (datetime.datetime.now() - datetime.datetime(2008,1,1,0,0)).total_seconds()\n",
    "        secondsBytes = int(secondsSince2008).to_bytes(4,'big')\n",
    "        subsecondsBytes = int(secondsSince2008 % 1 * 2**8).to_bytes(1,'big')\n",
    "        return secondsBytes + subsecondsBytes\n",
    "    elif isinstance(input,(bytes,bytearray)):\n",
    "        intSeconds = int.from_bytes(input[:4],'big')\n",
    "        intSubSeconds = input[5]\n",
    "        secondsSince2008 = intSeconds + (intSubSeconds / 2**8)\n",
    "        if mode == 'seconds':\n",
    "            return secondsSince2008\n",
    "        elif mode == 'datetime':\n",
    "            return datetime.datetime(2008,1,1) + datetime.timedelta(seconds=secondsSince2008)\n",
    "    elif isinstance(input,(int,float)):\n",
    "        return datetime.datetime(2008,1,1,0,0) + datetime.timedelta(seconds=input)\n",
    "    elif isinstance(input,datetime):\n",
    "        return (input - datetime.datetime(2008,1,1,0,0)).total_seconds()"
   ]
  },
  {
   "cell_type": "code",
   "execution_count": 6,
   "metadata": {},
   "outputs": [],
   "source": [
    "with open('Test TCP Data/testData_1024.dat') as openFile:\n",
    "    testTCPData = bytes.fromhex(openFile.read().replace(':',''))"
   ]
  },
  {
   "cell_type": "code",
   "execution_count": 14,
   "metadata": {},
   "outputs": [
    {
     "name": "stdout",
     "output_type": "stream",
     "text": [
      "7\n",
      "29\n",
      "42\n",
      "59\n",
      "74\n",
      "86\n",
      "104\n",
      "121\n"
     ]
    }
   ],
   "source": [
    "for i in range(len(testTCPData)//8):\n",
    "    if hex(testTCPData[8*i]) == '0x6c':\n",
    "        print(i)"
   ]
  },
  {
   "cell_type": "code",
   "execution_count": 33,
   "metadata": {},
   "outputs": [
    {
     "name": "stdout",
     "output_type": "stream",
     "text": [
      "6c:1d:49:a2:96:1c:4c:8e\n"
     ]
    }
   ],
   "source": [
    "timeBytes = testTCPData[8*7:8*8]\n",
    "print(timeBytes.hex(':'))"
   ]
  },
  {
   "cell_type": "code",
   "execution_count": 38,
   "metadata": {},
   "outputs": [
    {
     "data": {
      "text/plain": [
       "'1d:49:a2:96'"
      ]
     },
     "execution_count": 38,
     "metadata": {},
     "output_type": "execute_result"
    }
   ],
   "source": [
    "timeBytes[1:5].hex(':')"
   ]
  },
  {
   "cell_type": "code",
   "execution_count": 61,
   "metadata": {},
   "outputs": [
    {
     "data": {
      "text/plain": [
       "'1c:4c:8e'"
      ]
     },
     "execution_count": 61,
     "metadata": {},
     "output_type": "execute_result"
    }
   ],
   "source": [
    "timeBytes[5:10].hex(':')"
   ]
  },
  {
   "cell_type": "code",
   "execution_count": 86,
   "metadata": {},
   "outputs": [
    {
     "data": {
      "text/plain": [
       "1690525014.296875"
      ]
     },
     "execution_count": 86,
     "metadata": {},
     "output_type": "execute_result"
    }
   ],
   "source": [
    "instrument_time(timeBytes[1:7],mode='datetime').timestamp()"
   ]
  },
  {
   "cell_type": "code",
   "execution_count": 93,
   "metadata": {},
   "outputs": [
    {
     "data": {
      "text/plain": [
       "1690510614.296875"
      ]
     },
     "execution_count": 93,
     "metadata": {},
     "output_type": "execute_result"
    }
   ],
   "source": [
    "(instrument_time(timeBytes[1:7],mode='datetime') - datetime.datetime(1970,1,1)).total_seconds()"
   ]
  },
  {
   "cell_type": "code",
   "execution_count": 51,
   "metadata": {},
   "outputs": [
    {
     "data": {
      "text/plain": [
       "5"
      ]
     },
     "execution_count": 51,
     "metadata": {},
     "output_type": "execute_result"
    }
   ],
   "source": [
    "len(timeBytes[1:6])"
   ]
  },
  {
   "cell_type": "code",
   "execution_count": 67,
   "metadata": {},
   "outputs": [
    {
     "ename": "IndexError",
     "evalue": "index out of range",
     "output_type": "error",
     "traceback": [
      "\u001b[0;31m---------------------------------------------------------------------------\u001b[0m",
      "\u001b[0;31mIndexError\u001b[0m                                Traceback (most recent call last)",
      "Cell \u001b[0;32mIn[67], line 1\u001b[0m\n\u001b[0;32m----> 1\u001b[0m \u001b[39mbytes\u001b[39;49m([\u001b[39m0x23\u001b[39;49m,\u001b[39m0x43\u001b[39;49m,\u001b[39m0xb3\u001b[39;49m])[\u001b[39m100\u001b[39;49m]\n",
      "\u001b[0;31mIndexError\u001b[0m: index out of range"
     ]
    }
   ],
   "source": [
    "bytes([0x23,0x43,0xb3])[100]"
   ]
  },
  {
   "cell_type": "code",
   "execution_count": null,
   "metadata": {},
   "outputs": [],
   "source": []
  }
 ],
 "metadata": {
  "kernelspec": {
   "display_name": "Python 3 (base)",
   "language": "python",
   "name": "base"
  },
  "language_info": {
   "codemirror_mode": {
    "name": "ipython",
    "version": 3
   },
   "file_extension": ".py",
   "mimetype": "text/x-python",
   "name": "python",
   "nbconvert_exporter": "python",
   "pygments_lexer": "ipython3",
   "version": "3.11.4"
  },
  "orig_nbformat": 4
 },
 "nbformat": 4,
 "nbformat_minor": 2
}
