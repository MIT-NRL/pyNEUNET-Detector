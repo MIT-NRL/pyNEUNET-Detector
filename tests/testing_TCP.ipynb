{
 "cells": [
  {
   "cell_type": "code",
   "execution_count": 1,
   "metadata": {},
   "outputs": [],
   "source": [
    "import socket"
   ]
  },
  {
   "cell_type": "code",
   "execution_count": 2,
   "metadata": {},
   "outputs": [],
   "source": [
    "IP_ADDRESS = \"192.168.0.17\"\n",
    "TCP_Port = 23\n",
    "UDP_Port = 4660"
   ]
  },
  {
   "cell_type": "code",
   "execution_count": 19,
   "metadata": {},
   "outputs": [
    {
     "name": "stdout",
     "output_type": "stream",
     "text": [
      "bytearray(b'\\xa3\\x00\\x00\\x00\\x00\\x00\\xff\\xff')\n"
     ]
    }
   ],
   "source": [
    "sendHandshake = bytearray([0xa3,0x00,0x00,0x00]) + 0xffff.to_bytes(4,'big')\n",
    "print(sendHandshake)"
   ]
  },
  {
   "cell_type": "code",
   "execution_count": 26,
   "metadata": {},
   "outputs": [
    {
     "name": "stdout",
     "output_type": "stream",
     "text": [
      "b'\\x00\\x00\\x00\\x00'\n"
     ]
    }
   ],
   "source": [
    "with socket.socket(socket.AF_INET,socket.SOCK_STREAM,0) as sock:\n",
    "    sock.settimeout(5)\n",
    "    sock.connect((IP_ADDRESS,TCP_Port))\n",
    "    sock.send(sendHandshake)\n",
    "    recData = sock.recv(1024)    \n",
    "    print(recData)\n",
    "    sock.close()"
   ]
  },
  {
   "cell_type": "code",
   "execution_count": 16,
   "metadata": {},
   "outputs": [
    {
     "ename": "timeout",
     "evalue": "timed out",
     "output_type": "error",
     "traceback": [
      "\u001b[1;31m---------------------------------------------------------------------------\u001b[0m",
      "\u001b[1;31mtimeout\u001b[0m                                   Traceback (most recent call last)",
      "\u001b[1;32mc:\\Users\\4DH4\\Documents\\Python Scripts\\pyNEUNET-Detector\\tests\\testing_TCP.ipynb Cell 5\u001b[0m in \u001b[0;36m<cell line: 1>\u001b[1;34m()\u001b[0m\n\u001b[0;32m      <a href='vscode-notebook-cell:/c%3A/Users/4DH4/Documents/Python%20Scripts/pyNEUNET-Detector/tests/testing_TCP.ipynb#W4sZmlsZQ%3D%3D?line=2'>3</a>\u001b[0m sock\u001b[39m.\u001b[39mconnect((IP_ADDRESS,TCP_Port))\n\u001b[0;32m      <a href='vscode-notebook-cell:/c%3A/Users/4DH4/Documents/Python%20Scripts/pyNEUNET-Detector/tests/testing_TCP.ipynb#W4sZmlsZQ%3D%3D?line=3'>4</a>\u001b[0m \u001b[39m# sock.send(sendHandshake)\u001b[39;00m\n\u001b[1;32m----> <a href='vscode-notebook-cell:/c%3A/Users/4DH4/Documents/Python%20Scripts/pyNEUNET-Detector/tests/testing_TCP.ipynb#W4sZmlsZQ%3D%3D?line=4'>5</a>\u001b[0m recData \u001b[39m=\u001b[39m sock\u001b[39m.\u001b[39;49mrecv(\u001b[39m1024\u001b[39;49m)    \n\u001b[0;32m      <a href='vscode-notebook-cell:/c%3A/Users/4DH4/Documents/Python%20Scripts/pyNEUNET-Detector/tests/testing_TCP.ipynb#W4sZmlsZQ%3D%3D?line=5'>6</a>\u001b[0m \u001b[39mprint\u001b[39m(recData)\n\u001b[0;32m      <a href='vscode-notebook-cell:/c%3A/Users/4DH4/Documents/Python%20Scripts/pyNEUNET-Detector/tests/testing_TCP.ipynb#W4sZmlsZQ%3D%3D?line=6'>7</a>\u001b[0m sock\u001b[39m.\u001b[39mclose()\n",
      "\u001b[1;31mtimeout\u001b[0m: timed out"
     ]
    }
   ],
   "source": [
    "with socket.socket(socket.AF_INET,socket.SOCK_STREAM,0) as sock:\n",
    "    sock.settimeout(5)\n",
    "    sock.connect((IP_ADDRESS,TCP_Port))\n",
    "    # sock.send(sendHandshake)\n",
    "    recData = sock.recv(1024)    \n",
    "    print(recData)\n",
    "    sock.close()"
   ]
  },
  {
   "cell_type": "code",
   "execution_count": null,
   "metadata": {},
   "outputs": [],
   "source": []
  }
 ],
 "metadata": {
  "kernelspec": {
   "display_name": "Python (base)",
   "language": "python",
   "name": "base"
  },
  "language_info": {
   "codemirror_mode": {
    "name": "ipython",
    "version": 3
   },
   "file_extension": ".py",
   "mimetype": "text/x-python",
   "name": "python",
   "nbconvert_exporter": "python",
   "pygments_lexer": "ipython3",
   "version": "3.9.12"
  },
  "orig_nbformat": 4
 },
 "nbformat": 4,
 "nbformat_minor": 2
}
